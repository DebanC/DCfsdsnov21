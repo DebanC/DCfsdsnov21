{
 "cells": [
  {
   "cell_type": "markdown",
   "id": "b0c25b0d",
   "metadata": {},
   "source": [
    "                                                ASSIGNMENT 19"
   ]
  },
  {
   "cell_type": "markdown",
   "id": "2ccf7156",
   "metadata": {},
   "source": [
    "1 Make a class called Thing with no contents and print it. Then, create an object called example from this class and also print it. Are the printed values the same or different?"
   ]
  },
  {
   "cell_type": "code",
   "execution_count": 5,
   "id": "b4d822fb",
   "metadata": {},
   "outputs": [],
   "source": [
    "#ANS\n",
    "\n",
    "class Thing:\n",
    "    pass\n",
    "     \n"
   ]
  },
  {
   "cell_type": "code",
   "execution_count": 6,
   "id": "cbd6ff03",
   "metadata": {},
   "outputs": [
    {
     "name": "stdout",
     "output_type": "stream",
     "text": [
      "<class '__main__.Thing'>\n"
     ]
    }
   ],
   "source": [
    "print(Thing)"
   ]
  },
  {
   "cell_type": "code",
   "execution_count": 7,
   "id": "a684d627",
   "metadata": {},
   "outputs": [
    {
     "name": "stdout",
     "output_type": "stream",
     "text": [
      "<__main__.Thing object at 0x00000239313CD510>\n"
     ]
    }
   ],
   "source": [
    "\n",
    "example = Thing()\n",
    "print(example)"
   ]
  },
  {
   "cell_type": "markdown",
   "id": "ffba3f9b",
   "metadata": {},
   "source": [
    "2 Create a new class called Thing2 and add the value 'abc' to the letters class attribute. Letters should be printed."
   ]
  },
  {
   "cell_type": "code",
   "execution_count": 8,
   "id": "226b2a74",
   "metadata": {},
   "outputs": [
    {
     "data": {
      "text/plain": [
       "'abc'"
      ]
     },
     "execution_count": 8,
     "metadata": {},
     "output_type": "execute_result"
    }
   ],
   "source": [
    "#ANS\n",
    "\n",
    "class Thing2:\n",
    "    letters = 'abc'\n",
    "Thing2.letters"
   ]
  },
  {
   "cell_type": "markdown",
   "id": "147abd9b",
   "metadata": {},
   "source": [
    "3  Make yet another class called, of course, Thing3. This time, assign the value 'xyz' to an instance (object) attribute called letters. Print letters. Do you need to make an object from the class to do this?\n",
    "\n"
   ]
  },
  {
   "cell_type": "code",
   "execution_count": 9,
   "id": "13d91b88",
   "metadata": {},
   "outputs": [
    {
     "name": "stdout",
     "output_type": "stream",
     "text": [
      "xyz\n"
     ]
    }
   ],
   "source": [
    "#ANS\n",
    "class Thing3:\n",
    "    def __init__(self,letter):\n",
    "        self.letter = letter\n",
    "    def letters(self):\n",
    "        print(self.letter)\n",
    "Thing3('xyz').letters()\n",
    "     "
   ]
  },
  {
   "cell_type": "markdown",
   "id": "f33225e4",
   "metadata": {},
   "source": [
    "4  Create an Element class with the instance attributes name, symbol, and number. Create a class object with the values 'Hydrogen','H' and 1."
   ]
  },
  {
   "cell_type": "code",
   "execution_count": 10,
   "id": "bc0f9408",
   "metadata": {},
   "outputs": [],
   "source": [
    "#ANS\n",
    "class Element:\n",
    "    def __init__(self,name,symbol,number):\n",
    "        self.name = name\n",
    "        self.symbol = symbol\n",
    "        self.number = number\n",
    "    def printThem(self):\n",
    "        print(self.name,self.symbol,self.number)\n",
    "     "
   ]
  },
  {
   "cell_type": "code",
   "execution_count": null,
   "id": "9ccf7559",
   "metadata": {},
   "outputs": [],
   "source": []
  },
  {
   "cell_type": "code",
   "execution_count": null,
   "id": "612efa39",
   "metadata": {},
   "outputs": [],
   "source": [
    "#ANS"
   ]
  },
  {
   "cell_type": "code",
   "execution_count": null,
   "id": "91389114",
   "metadata": {},
   "outputs": [],
   "source": []
  },
  {
   "cell_type": "code",
   "execution_count": null,
   "id": "12119f0d",
   "metadata": {},
   "outputs": [],
   "source": [
    "#ANS"
   ]
  },
  {
   "cell_type": "code",
   "execution_count": null,
   "id": "75fa6df3",
   "metadata": {},
   "outputs": [],
   "source": []
  },
  {
   "cell_type": "code",
   "execution_count": null,
   "id": "1122b1c3",
   "metadata": {},
   "outputs": [],
   "source": [
    "#ANS"
   ]
  },
  {
   "cell_type": "code",
   "execution_count": null,
   "id": "da7ff319",
   "metadata": {},
   "outputs": [],
   "source": []
  },
  {
   "cell_type": "code",
   "execution_count": null,
   "id": "81b74a1b",
   "metadata": {},
   "outputs": [],
   "source": [
    "#ANS"
   ]
  },
  {
   "cell_type": "code",
   "execution_count": null,
   "id": "bcc562fc",
   "metadata": {},
   "outputs": [],
   "source": []
  }
 ],
 "metadata": {
  "kernelspec": {
   "display_name": "Python 3 (ipykernel)",
   "language": "python",
   "name": "python3"
  },
  "language_info": {
   "codemirror_mode": {
    "name": "ipython",
    "version": 3
   },
   "file_extension": ".py",
   "mimetype": "text/x-python",
   "name": "python",
   "nbconvert_exporter": "python",
   "pygments_lexer": "ipython3",
   "version": "3.11.5"
  }
 },
 "nbformat": 4,
 "nbformat_minor": 5
}
