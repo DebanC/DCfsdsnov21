{
 "cells": [
  {
   "cell_type": "raw",
   "id": "4a036744",
   "metadata": {},
   "source": [
    "                                             Assignment 5\n",
    "\n",
    "Q1)1. What does an empty dictionary's code look like?\n",
    "Ans-Two curly brackets {}\n",
    "\n",
    "Q2)What is the value of a dictionary value with the key 'foo' and the value 42?\n",
    "Ans-{'foo':42}\n",
    "\n",
    "Q3)What is the most significant distinction between a dictionary and a list?\n",
    "Ans-The items stored in a dictionary are unordered, while the items in a list are ordered.\n",
    "\n",
    "Q4) What happens if you try to access spam['foo'] if spam is {'bar': 100}?\n",
    "Ans- We get a KeyError error.\n",
    "\n",
    "Q5)If a dictionary is stored in spam, what is the difference between the expressions 'cat' in spam and 'cat' in spam.keys()?\n",
    "Ans-There is no difference. The in operator checks whether a value exists as a key in the dictionary.\n",
    "\n",
    "Q6)If a dictionary is stored in spam, what is the difference between the expressions 'cat' in spam and 'cat' in spam.values()?\n",
    "Ans-'cat' in spam checks whether there is a 'cat' key in the dictionary, while 'cat' in spam.values() checks whether there is a value 'cat' for one of the keys in spam.\n",
    "\n",
    "\n",
    "Q7)What is a shortcut for the following code?\n",
    "if 'color' not in spam:\n",
    "spam['color'] = 'black'\n",
    "Ans-spam.setdefault('color', 'black')\n",
    "\n",
    "Q8) How do you \"pretty print\" dictionary values using which module and function?\n",
    "Ans-pprint.pprint()\n",
    " "
   ]
  }
 ],
 "metadata": {
  "kernelspec": {
   "display_name": "Python 3 (ipykernel)",
   "language": "python",
   "name": "python3"
  },
  "language_info": {
   "codemirror_mode": {
    "name": "ipython",
    "version": 3
   },
   "file_extension": ".py",
   "mimetype": "text/x-python",
   "name": "python",
   "nbconvert_exporter": "python",
   "pygments_lexer": "ipython3",
   "version": "3.9.12"
  }
 },
 "nbformat": 4,
 "nbformat_minor": 5
}
