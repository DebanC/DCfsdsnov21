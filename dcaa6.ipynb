{
 "cells": [
  {
   "cell_type": "raw",
   "id": "3c5b6a0a",
   "metadata": {},
   "source": [
    "                                                    Assgnment 6\n",
    "Q1) What are escape characters, and how do you use them?\n",
    "Ans-Escape characters represent characters in string values that would otherwise be difficult or impossible to type into code.\n",
    "\n",
    "Q2)What do the escape characters n and t stand for?\n",
    "Ans-\\n is a newline; \\t is a tab.\n",
    "\n",
    "Q3) What is the way to include backslash characters in a string?\n",
    "Ans-The \\\\ escape character will represent a backslash character.\n",
    "\n",
    "Q4)The string \"Howl's Moving Castle\" is a correct value. Why isn't the single quote character in the word Howl's not escaped a problem?\n",
    "Ans-The single quote in Howl's is fine because you've used double quotes to mark the beginning and end of the string.\n",
    "\n",
    "Q5)How do you write a string of newlines if you don't want to use the n character?\n",
    "Ans- Multiline strings allow you to use newlines in strings without the \\n escape character.\n",
    "\n",
    "Q6)What are the values of the given expressions?\n",
    "'Hello, world!'[1]\n",
    "'Hello, world!'[0:5]\n",
    "'Hello, world!'[:5]\n",
    "'Hello, world!'[3:]\n",
    "\n"
   ]
  },
  {
   "cell_type": "code",
   "execution_count": 4,
   "id": "52819899",
   "metadata": {},
   "outputs": [
    {
     "data": {
      "text/plain": [
       "('e', 'Hello', 'Hello', 'lo, world!')"
      ]
     },
     "execution_count": 4,
     "metadata": {},
     "output_type": "execute_result"
    }
   ],
   "source": [
    "#ans for Q6\n",
    "a=['hello, world!']\n",
    "'Hello, world!'[1],'Hello, world!'[0:5],'Hello, world!'[:5],'Hello, world!'[3:]"
   ]
  },
  {
   "cell_type": "raw",
   "id": "c857db3b",
   "metadata": {},
   "source": [
    "Q7) What are the values of the following expressions?\n",
    "'Hello'.upper()\n",
    "'Hello'.upper().isupper()\n",
    "'Hello'.upper().lower()"
   ]
  },
  {
   "cell_type": "code",
   "execution_count": 13,
   "id": "ee080676",
   "metadata": {},
   "outputs": [
    {
     "data": {
      "text/plain": [
       "('HELLO', True, 'hello')"
      ]
     },
     "execution_count": 13,
     "metadata": {},
     "output_type": "execute_result"
    }
   ],
   "source": [
    "#Ans of Q7\n",
    "a='Hello'\n",
    "a.upper(),a.upper().isupper(),a.upper().lower()\n",
    "#'Hello'.upper(),'Hello'.upper.isupper(), 'Hello'.upper().lower()"
   ]
  },
  {
   "cell_type": "raw",
   "id": "1f2c3e23",
   "metadata": {},
   "source": [
    "Q8) What are the values of the following expressions?\n",
    "'Remember, remember, the fifth of July.'.split()\n",
    "'-'.join('There can only one.'.split())\n",
    "Ans-['Remember,', 'remember,', 'the', 'fifth', 'of', 'November.']\n",
    "\n",
    "'There-can-be-only-one."
   ]
  },
  {
   "cell_type": "raw",
   "id": "fdd07721",
   "metadata": {},
   "source": [
    "Q9)What string methods can you use to right-justify, left-justify, and center a string?\n",
    "Ans-The rjust(), ljust(), and center() string methods, respectively.\n",
    "\n",
    "Q10)10. What is the best way to remove whitespace characters from the start or end?\n",
    "Ans-The lstrip() and rstrip() methods remove whitespace from the left and right ends of a string, respectively."
   ]
  }
 ],
 "metadata": {
  "kernelspec": {
   "display_name": "Python 3 (ipykernel)",
   "language": "python",
   "name": "python3"
  },
  "language_info": {
   "codemirror_mode": {
    "name": "ipython",
    "version": 3
   },
   "file_extension": ".py",
   "mimetype": "text/x-python",
   "name": "python",
   "nbconvert_exporter": "python",
   "pygments_lexer": "ipython3",
   "version": "3.9.12"
  }
 },
 "nbformat": 4,
 "nbformat_minor": 5
}
