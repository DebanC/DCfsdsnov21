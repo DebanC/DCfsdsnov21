{
 "cells": [
  {
   "cell_type": "code",
   "execution_count": null,
   "id": "936fad02",
   "metadata": {},
   "outputs": [],
   "source": [
    "                                             Assignment 11"
   ]
  },
  {
   "cell_type": "code",
   "execution_count": 18,
   "id": "96e948d5",
   "metadata": {},
   "outputs": [
    {
     "ename": "AssertionError",
     "evalue": "",
     "output_type": "error",
     "traceback": [
      "\u001b[1;31m---------------------------------------------------------------------------\u001b[0m",
      "\u001b[1;31mAssertionError\u001b[0m                            Traceback (most recent call last)",
      "Input \u001b[1;32mIn [18]\u001b[0m, in \u001b[0;36m<cell line: 2>\u001b[1;34m()\u001b[0m\n\u001b[0;32m      1\u001b[0m spam\u001b[38;5;241m=\u001b[39m\u001b[38;5;241m-\u001b[39m\u001b[38;5;241m2\u001b[39m\n\u001b[1;32m----> 2\u001b[0m \u001b[38;5;28;01massert\u001b[39;00m (spam\u001b[38;5;241m==\u001b[39m\u001b[38;5;241m-\u001b[39m\u001b[38;5;241m1\u001b[39m)\n",
      "\u001b[1;31mAssertionError\u001b[0m: "
     ]
    }
   ],
   "source": [
    "Q1.#1. Create an assert statement that throws an AssertionError if the variable spam is a negativeinteger.\n",
    "spam=-2\n",
    "assert (spam==-1)"
   ]
  },
  {
   "cell_type": "raw",
   "id": "3c61b4e4",
   "metadata": {},
   "source": [
    "Q2.Write an assert statement that triggers an AssertionError if the variables eggs and bacon contain strings that are the same as each other, even if their cases are different (that is, 'hello' and 'hello' are considered the same, and 'goodbye' and 'GOODbye' are also considered the same)."
   ]
  },
  {
   "cell_type": "code",
   "execution_count": 26,
   "id": "dab308d5",
   "metadata": {},
   "outputs": [
    {
     "ename": "AssertionError",
     "evalue": "",
     "output_type": "error",
     "traceback": [
      "\u001b[1;31m---------------------------------------------------------------------------\u001b[0m",
      "\u001b[1;31mAssertionError\u001b[0m                            Traceback (most recent call last)",
      "Input \u001b[1;32mIn [26]\u001b[0m, in \u001b[0;36m<cell line: 4>\u001b[1;34m()\u001b[0m\n\u001b[0;32m      2\u001b[0m eggs\u001b[38;5;241m=\u001b[39m(\u001b[38;5;124m'\u001b[39m\u001b[38;5;124mhello\u001b[39m\u001b[38;5;124m'\u001b[39m)\n\u001b[0;32m      3\u001b[0m bacon\u001b[38;5;241m=\u001b[39m(\u001b[38;5;124m'\u001b[39m\u001b[38;5;124mhello\u001b[39m\u001b[38;5;124m'\u001b[39m)\n\u001b[1;32m----> 4\u001b[0m \u001b[38;5;28;01massert\u001b[39;00m (bacon\u001b[38;5;241m.\u001b[39mlower()\u001b[38;5;241m!=\u001b[39m eggs\u001b[38;5;241m.\u001b[39mlower())\n",
      "\u001b[1;31mAssertionError\u001b[0m: "
     ]
    }
   ],
   "source": [
    "#Ans for Q2\n",
    "eggs=('hello')\n",
    "bacon=('hello')\n",
    "assert (bacon.lower()!= eggs.lower())"
   ]
  },
  {
   "cell_type": "code",
   "execution_count": 30,
   "id": "4f8d1b9b",
   "metadata": {},
   "outputs": [
    {
     "ename": "AssertionError",
     "evalue": "",
     "output_type": "error",
     "traceback": [
      "\u001b[1;31m---------------------------------------------------------------------------\u001b[0m",
      "\u001b[1;31mAssertionError\u001b[0m                            Traceback (most recent call last)",
      "Input \u001b[1;32mIn [30]\u001b[0m, in \u001b[0;36m<cell line: 3>\u001b[1;34m()\u001b[0m\n\u001b[0;32m      1\u001b[0m eggs1\u001b[38;5;241m=\u001b[39m(\u001b[38;5;124m'\u001b[39m\u001b[38;5;124mgoodbye\u001b[39m\u001b[38;5;124m'\u001b[39m)\n\u001b[0;32m      2\u001b[0m bacon1\u001b[38;5;241m=\u001b[39m(\u001b[38;5;124m'\u001b[39m\u001b[38;5;124mGOODbye\u001b[39m\u001b[38;5;124m'\u001b[39m)\n\u001b[1;32m----> 3\u001b[0m \u001b[38;5;28;01massert\u001b[39;00m(bacon1\u001b[38;5;241m==\u001b[39meggs1)\n",
      "\u001b[1;31mAssertionError\u001b[0m: "
     ]
    }
   ],
   "source": [
    "#Ans for Q2\n",
    "eggs1=('goodbye')\n",
    "bacon1=('GOODbye')\n",
    "assert(bacon1==eggs1)"
   ]
  },
  {
   "cell_type": "raw",
   "id": "083521fd",
   "metadata": {},
   "source": [
    "Q3. Create an assert statement that throws an AssertionError every time.\n",
    "Ans- assert False, 'This assertion always triggers.'\n",
    "\n",
    "Q4. What are the two lines that must be present in your software in order to call logging.debug()?\n",
    "Ans-To be able to call logging.debug(), you must have these two lines at the start of your program:\n",
    "\n",
    "import logging\n",
    "logging.basicConfig(level=logging.DEBUG, format=' %(asctime)s -\n",
    "%(levelname)s - %(message)s') .\n",
    "\n",
    "Q5. What are the two lines that your program must have in order to have logging.debug() send a\n",
    "logging message to a file named programLog.txt?\n",
    "Ans- import logging\n",
    "\n",
    "logging.basicConfig(filename='programLog.txt', level=logging.DEBUG,\n",
    "\n",
    "format=' %(asctime)s - %(levelname)s - %(message)s') .\n",
    "\n",
    "Q6. What are the five levels of logging?\n",
    "Ans-DEBUG, INFO, WARNING, ERROR, and CRITICAL\n",
    "\n",
    "Q7. What line of code would you add to your software to disable all logging messages?\n",
    "Ans- logging.disable(logging.CRITICAL)\n",
    "\n",
    "Q8. Why is using logging messages better than using print() to display the same message?\n",
    "Ans- We can easily disable logging messages without removing the logging function calls. You can selectively disable lower-level logging messages. You can create logging messages. Logging messages provides a timestamp.\n",
    "\n",
    "Q9. What are the differences between the Step Over, Step In, and Step Out buttons in the debugger?\n",
    "Ans- The Step button will move the debugger into a function call. \n",
    "     The Over button will quickly execute the function call without stepping into it. \n",
    "     The Out button will quickly execute the rest of the code until it steps out of the function it currently is in.\n",
    "     \n",
    "Q10. After you click Continue, when will the debugger stop ?\n",
    "Ans- After you click Go, the debugger will stop when it has reached the end of the program or a line with a breakpoint.\n",
    "\n",
    "Q11. What is the concept of a breakpoint?\n",
    "Ans- breakpoint is a setting on a line of code that causes the debugger to pause when the program execution reaches the line .\n"
   ]
  },
  {
   "cell_type": "code",
   "execution_count": null,
   "id": "326c2b3f",
   "metadata": {},
   "outputs": [],
   "source": []
  }
 ],
 "metadata": {
  "kernelspec": {
   "display_name": "Python 3 (ipykernel)",
   "language": "python",
   "name": "python3"
  },
  "language_info": {
   "codemirror_mode": {
    "name": "ipython",
    "version": 3
   },
   "file_extension": ".py",
   "mimetype": "text/x-python",
   "name": "python",
   "nbconvert_exporter": "python",
   "pygments_lexer": "ipython3",
   "version": "3.9.12"
  }
 },
 "nbformat": 4,
 "nbformat_minor": 5
}
