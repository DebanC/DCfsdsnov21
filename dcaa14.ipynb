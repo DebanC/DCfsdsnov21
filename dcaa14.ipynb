{
 "cells": [
  {
   "cell_type": "raw",
   "id": "d6f54643",
   "metadata": {},
   "source": [
    "                                    Assignment 14"
   ]
  },
  {
   "cell_type": "raw",
   "id": "f16580b1",
   "metadata": {},
   "source": [
    "1. What does RGBA stand for?\n",
    "Ans-RGBA(Red-Green-Blue-Alpha). The RGB color model is extended in this specification to include “alpha” to allow specification of the opacity of a color.\n",
    "\n",
    "2. From the Pillow module, how do you get the RGBA value of any images?\n",
    "Ans-Pillow offers the ImageColor.getcolor() function so you don’t have to memorize RGBA values for the colors you want to use. This function takes a color name string as its first argument, and the string 'RGBA' as its second argument, and it returns an RGBA tuple.\n",
    "\n",
    "3. What is a box tuple, and how does it work?\n",
    "Ans-The box.tuple submodule provides read-only access for the tuple userdata type. It allows, for a single tuple: selective retrieval of the field contents, retrieval of information about size, iteration over all the fields, and conversion to a Lua table."
   ]
  },
  {
   "cell_type": "raw",
   "id": "794e1861",
   "metadata": {},
   "source": [
    "4. Use your image and load in notebook then, How can you find out the width and height of an\n",
    "Image object?"
   ]
  },
  {
   "cell_type": "code",
   "execution_count": null,
   "id": "6995342e",
   "metadata": {},
   "outputs": [],
   "source": [
    "# import required module\n",
    "from PIL import Image\n",
    "\n",
    "# get image\n",
    "filepath = \"sample.png\"\n",
    "img = Image.open(\"C:\\Users\\Subhomita\\Desktop\\sample.jpg\")\n",
    "\n",
    "# get width and height\n",
    "width = img.width\n",
    "height = img.height\n",
    "\n",
    "# display width and height\n",
    "print(\"The height of the image is: \", height)\n",
    "print(\"The width of the image is: \", width)\n"
   ]
  },
  {
   "cell_type": "raw",
   "id": "9359b54e",
   "metadata": {},
   "source": [
    "5. What method would you call to get Image object for a 100×100 image, excluding the lower-left\n",
    "quarter of it?\n",
    "\n",
    "Ans- Region of image is generally a size 4 tuple which contains the top left and bottom right coordinates of the box. \n",
    "\n",
    "Removing a region means we first select the region we are willing to get rid of. Where the selection could be Region or Pixel value-based. Once the region has been identified we will turn the pixel values of that region to the ones of the background. Where background color is not constant, and hence depends upon the context for which the image is to be used."
   ]
  },
  {
   "cell_type": "raw",
   "id": "0ae94471",
   "metadata": {},
   "source": [
    "6. After making changes to an Image object, how could you save it as an image file?\n",
    "Ans-image.save('file name')\n",
    "\n",
    "7. What module contains Pillow’s shape-drawing code?\n",
    "Ans-Imagedraw module contains pillow's shape-drawing code.\n",
    "\n"
   ]
  },
  {
   "cell_type": "code",
   "execution_count": null,
   "id": "aae3f0fd",
   "metadata": {},
   "outputs": [],
   "source": []
  }
 ],
 "metadata": {
  "kernelspec": {
   "display_name": "Python 3 (ipykernel)",
   "language": "python",
   "name": "python3"
  },
  "language_info": {
   "codemirror_mode": {
    "name": "ipython",
    "version": 3
   },
   "file_extension": ".py",
   "mimetype": "text/x-python",
   "name": "python",
   "nbconvert_exporter": "python",
   "pygments_lexer": "ipython3",
   "version": "3.9.12"
  }
 },
 "nbformat": 4,
 "nbformat_minor": 5
}
