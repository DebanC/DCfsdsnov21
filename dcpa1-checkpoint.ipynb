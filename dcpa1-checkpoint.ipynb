{
 "cells": [
  {
   "cell_type": "markdown",
   "id": "dd1aac6c",
   "metadata": {},
   "source": [
    "                                            Python Assignment 1"
   ]
  },
  {
   "cell_type": "markdown",
   "id": "9f50dea9",
   "metadata": {},
   "source": [
    "1 Write a Python program to print \"Hello Python\"?"
   ]
  },
  {
   "cell_type": "code",
   "execution_count": 1,
   "id": "f3fe29d4",
   "metadata": {},
   "outputs": [
    {
     "name": "stdout",
     "output_type": "stream",
     "text": [
      "Hello Python\n"
     ]
    }
   ],
   "source": [
    "#Ans \n",
    "print(\"Hello Python\")\n"
   ]
  },
  {
   "cell_type": "markdown",
   "id": "f11a328e",
   "metadata": {},
   "source": [
    "2 Write a Python program to do arithmetical operations addition and division.?"
   ]
  },
  {
   "cell_type": "code",
   "execution_count": 2,
   "id": "dcdfd9e5",
   "metadata": {},
   "outputs": [
    {
     "name": "stdout",
     "output_type": "stream",
     "text": [
      "Addition of 10 and 5 is: 15\n",
      "Division of 10 by 5 is: 2.0\n"
     ]
    }
   ],
   "source": [
    "#Ans\n",
    "# Define two numbers\n",
    "num1 = 10\n",
    "num2 = 5\n",
    "\n",
    "# Perform addition\n",
    "addition_result = num1 + num2\n",
    "\n",
    "# Perform division\n",
    "# Make sure to check for division by zero\n",
    "if num2 != 0:\n",
    "    division_result = num1 / num2\n",
    "else:\n",
    "    division_result = \"Cannot divide by zero\"\n",
    "\n",
    "# Print the results\n",
    "print(f\"Addition of {num1} and {num2} is: {addition_result}\")\n",
    "print(f\"Division of {num1} by {num2} is: {division_result}\")\n"
   ]
  },
  {
   "cell_type": "markdown",
   "id": "37b6cdee",
   "metadata": {},
   "source": [
    "3 Write a Python program to find the area of a triangle?"
   ]
  },
  {
   "cell_type": "code",
   "execution_count": 5,
   "id": "6b956120",
   "metadata": {},
   "outputs": [
    {
     "name": "stdout",
     "output_type": "stream",
     "text": [
      "Enter the base of the triangle: 52\n",
      "Enter the height of the triangle: 10\n",
      "The area of the triangle with base 52.0 and height 10.0 is: 260.0\n"
     ]
    }
   ],
   "source": [
    "#ANS\n",
    "# Function to calculate the area of a triangle\n",
    "def calculate_triangle_area(base, height):\n",
    "    return 0.5 * base * height\n",
    "\n",
    "# Get user input for the base and height of the triangle\n",
    "base = float(input(\"Enter the base of the triangle: \"))\n",
    "height = float(input(\"Enter the height of the triangle: \"))\n",
    "\n",
    "# Calculate the area of the triangle\n",
    "area = calculate_triangle_area(base, height)\n",
    "\n",
    "# Print the result\n",
    "print(f\"The area of the triangle with base {base} and height {height} is: {area}\")\n"
   ]
  },
  {
   "cell_type": "markdown",
   "id": "2f1f9305",
   "metadata": {},
   "source": [
    "4 Write a Python program to swap two variables?"
   ]
  },
  {
   "cell_type": "code",
   "execution_count": 6,
   "id": "77321cc7",
   "metadata": {},
   "outputs": [
    {
     "name": "stdout",
     "output_type": "stream",
     "text": [
      "Original values - a: 5, b: 10\n",
      "Swapped values - a: 10, b: 5\n"
     ]
    }
   ],
   "source": [
    "#Ans\n",
    "# Define two variables\n",
    "a = 5\n",
    "b = 10\n",
    "\n",
    "# Print the original values\n",
    "print(f\"Original values - a: {a}, b: {b}\")\n",
    "\n",
    "# Swap the values using a tuple assignment\n",
    "a, b = b, a\n",
    "\n",
    "# Print the swapped values\n",
    "print(f\"Swapped values - a: {a}, b: {b}\")\n"
   ]
  },
  {
   "cell_type": "markdown",
   "id": "14ce9f35",
   "metadata": {},
   "source": [
    "5 Write a Python program to generate a random number?"
   ]
  },
  {
   "cell_type": "code",
   "execution_count": 7,
   "id": "e6d12bc4",
   "metadata": {},
   "outputs": [
    {
     "name": "stdout",
     "output_type": "stream",
     "text": [
      "Random integer between 1 and 100: 15\n",
      "Random floating-point number between 0 and 1: 0.7868029083825447\n"
     ]
    }
   ],
   "source": [
    "#ANS\n",
    "import random\n",
    "\n",
    "# Generate a random integer between 1 and 100\n",
    "random_integer = random.randint(1, 100)\n",
    "\n",
    "# Generate a random floating-point number between 0 and 1\n",
    "random_float = random.random()\n",
    "\n",
    "# Print the generated random numbers\n",
    "print(f\"Random integer between 1 and 100: {random_integer}\")\n",
    "print(f\"Random floating-point number between 0 and 1: {random_float}\")\n"
   ]
  },
  {
   "cell_type": "code",
   "execution_count": null,
   "id": "7886c167",
   "metadata": {},
   "outputs": [],
   "source": []
  }
 ],
 "metadata": {
  "kernelspec": {
   "display_name": "Python 3 (ipykernel)",
   "language": "python",
   "name": "python3"
  },
  "language_info": {
   "codemirror_mode": {
    "name": "ipython",
    "version": 3
   },
   "file_extension": ".py",
   "mimetype": "text/x-python",
   "name": "python",
   "nbconvert_exporter": "python",
   "pygments_lexer": "ipython3",
   "version": "3.11.5"
  }
 },
 "nbformat": 4,
 "nbformat_minor": 5
}
