{
 "cells": [
  {
   "cell_type": "markdown",
   "id": "3a26058c",
   "metadata": {},
   "source": [
    "                                         Assignment 15"
   ]
  },
  {
   "cell_type": "markdown",
   "id": "f5869279",
   "metadata": {},
   "source": [
    "1.How many seconds are in an hour? Use the interactive interpreter as a calculator and multiply the\n",
    "number of seconds in a minute (60) by the number of minutes in an hour (also 60)."
   ]
  },
  {
   "cell_type": "code",
   "execution_count": 1,
   "id": "3621eb6e",
   "metadata": {},
   "outputs": [
    {
     "name": "stdout",
     "output_type": "stream",
     "text": [
      "There are 3600 seconds in an hour.\n"
     ]
    }
   ],
   "source": [
    "#ANS \n",
    "# Define the number of seconds in a minute\n",
    "seconds_per_minute = 60\n",
    "\n",
    "# Define the number of minutes in an hour\n",
    "minutes_per_hour = 60\n",
    "\n",
    "# Calculate the total number of seconds in an hour\n",
    "seconds_per_hour = seconds_per_minute * minutes_per_hour\n",
    "\n",
    "# Print the result\n",
    "print(f\"There are {seconds_per_hour} seconds in an hour.\")\n"
   ]
  },
  {
   "cell_type": "markdown",
   "id": "98b5ca86",
   "metadata": {},
   "source": [
    "2. Assign the result from the previous task (seconds in an hour) to a variable called\n",
    "seconds_per_hour."
   ]
  },
  {
   "cell_type": "code",
   "execution_count": 2,
   "id": "36f40e6c",
   "metadata": {},
   "outputs": [
    {
     "name": "stdout",
     "output_type": "stream",
     "text": [
      "seconds_per_hour: 3600\n"
     ]
    }
   ],
   "source": [
    "#ANS \n",
    "# Define the number of seconds in a minute\n",
    "seconds_per_minute = 60\n",
    "\n",
    "# Define the number of minutes in an hour\n",
    "minutes_per_hour = 60\n",
    "\n",
    "# Calculate the total number of seconds in an hour and assign it to the variable\n",
    "seconds_per_hour = seconds_per_minute * minutes_per_hour\n",
    "\n",
    "# Print the result to verify\n",
    "print(f\"seconds_per_hour: {seconds_per_hour}\")\n"
   ]
  },
  {
   "cell_type": "markdown",
   "id": "10cdefb9",
   "metadata": {},
   "source": [
    "3. How many seconds do you think there are in a day? Make use of the variables seconds per hour\n",
    "and minutes per hour."
   ]
  },
  {
   "cell_type": "code",
   "execution_count": 3,
   "id": "7231d3f4",
   "metadata": {},
   "outputs": [
    {
     "name": "stdout",
     "output_type": "stream",
     "text": [
      "There are 86400 seconds in a day.\n"
     ]
    }
   ],
   "source": [
    "#Ans\n",
    "# Define the number of hours in a day\n",
    "hours_per_day = 24\n",
    "\n",
    "# Calculate the total number of seconds in a day\n",
    "seconds_per_day = seconds_per_hour * hours_per_day\n",
    "\n",
    "# Print the result\n",
    "print(f\"There are {seconds_per_day} seconds in a day.\")\n"
   ]
  },
  {
   "cell_type": "markdown",
   "id": "25af556a",
   "metadata": {},
   "source": [
    "4. Calculate seconds per day again, but this time save the result in a variable called seconds_per_day"
   ]
  },
  {
   "cell_type": "code",
   "execution_count": 4,
   "id": "0456eda5",
   "metadata": {},
   "outputs": [
    {
     "name": "stdout",
     "output_type": "stream",
     "text": [
      "seconds_per_day: 86400\n"
     ]
    }
   ],
   "source": [
    "#Ans\n",
    "# Define the number of hours in a day\n",
    "hours_per_day = 24\n",
    "\n",
    "# Calculate the total number of seconds in a day\n",
    "seconds_per_day = seconds_per_hour * hours_per_day\n",
    "\n",
    "# Print the result to verify\n",
    "print(f\"seconds_per_day: {seconds_per_day}\")\n",
    "\n"
   ]
  },
  {
   "cell_type": "markdown",
   "id": "08d2912f",
   "metadata": {},
   "source": [
    "5. Divide seconds_per_day by seconds_per_hour. Use floating-point (/) division."
   ]
  },
  {
   "cell_type": "code",
   "execution_count": 5,
   "id": "d66f76d3",
   "metadata": {},
   "outputs": [
    {
     "name": "stdout",
     "output_type": "stream",
     "text": [
      "The calculated number of hours per day is: 24.0\n"
     ]
    }
   ],
   "source": [
    "#Ans \n",
    "# Perform floating-point division\n",
    "hours_per_day_calculated = seconds_per_day / seconds_per_hour\n",
    "\n",
    "# Print the result\n",
    "print(f\"The calculated number of hours per day is: {hours_per_day_calculated}\")\n"
   ]
  },
  {
   "cell_type": "markdown",
   "id": "dfd9cffd",
   "metadata": {},
   "source": [
    "6. Divide seconds_per_day by seconds_per_hour, using integer (//) division. Did this number agree\n",
    "with the floating-point value from the previous question, aside from the final .0?"
   ]
  },
  {
   "cell_type": "code",
   "execution_count": 6,
   "id": "9281aa30",
   "metadata": {},
   "outputs": [
    {
     "name": "stdout",
     "output_type": "stream",
     "text": [
      "The integer division of seconds_per_day by seconds_per_hour is: 24\n"
     ]
    }
   ],
   "source": [
    "#Ans\n",
    "# Perform integer division\n",
    "hours_per_day_integer = seconds_per_day // seconds_per_hour\n",
    "\n",
    "# Print the result\n",
    "print(f\"The integer division of seconds_per_day by seconds_per_hour is: {hours_per_day_integer}\")\n"
   ]
  },
  {
   "cell_type": "markdown",
   "id": "8055da29",
   "metadata": {},
   "source": [
    "7. Write a generator, genPrimes, that returns the sequence of prime numbers on successive calls to\n",
    "its next() method: 2, 3, 5, 7, 11, ..."
   ]
  },
  {
   "cell_type": "code",
   "execution_count": 7,
   "id": "142ef8e3",
   "metadata": {},
   "outputs": [
    {
     "name": "stdout",
     "output_type": "stream",
     "text": [
      "2\n",
      "3\n",
      "5\n",
      "7\n"
     ]
    }
   ],
   "source": [
    "#Ans\n",
    "def is_prime(n):\n",
    "    \"\"\"Check if a given number n is a prime number.\"\"\"\n",
    "    if n < 2:\n",
    "        return False\n",
    "    if n == 2:\n",
    "        return True\n",
    "    if n % 2 == 0:\n",
    "        return False\n",
    "    for i in range(3, int(n**0.5) + 1, 2):\n",
    "        if n % i == 0:\n",
    "            return False\n",
    "    return True\n",
    "\n",
    "def genPrimes():\n",
    "    \"\"\"Generator function that returns the sequence of prime numbers.\"\"\"\n",
    "    num = 2\n",
    "    while True:\n",
    "        if is_prime(num):\n",
    "            yield num\n",
    "        num += 1\n",
    "\n",
    "# Example usage of the generator function\n",
    "prime_generator = genPrimes()\n",
    "print(next(prime_generator))  # Output: 2\n",
    "print(next(prime_generator))  # Output: 3\n",
    "print(next(prime_generator))  # Output: 5\n",
    "print(next(prime_generator))  # Output: 7\n"
   ]
  },
  {
   "cell_type": "code",
   "execution_count": null,
   "id": "552f9f4f",
   "metadata": {},
   "outputs": [],
   "source": []
  }
 ],
 "metadata": {
  "kernelspec": {
   "display_name": "Python 3 (ipykernel)",
   "language": "python",
   "name": "python3"
  },
  "language_info": {
   "codemirror_mode": {
    "name": "ipython",
    "version": 3
   },
   "file_extension": ".py",
   "mimetype": "text/x-python",
   "name": "python",
   "nbconvert_exporter": "python",
   "pygments_lexer": "ipython3",
   "version": "3.11.5"
  }
 },
 "nbformat": 4,
 "nbformat_minor": 5
}
