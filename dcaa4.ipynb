{
 "cells": [
  {
   "cell_type": "raw",
   "id": "aa42f03e",
   "metadata": {},
   "source": [
    "                                             Assignment 4\n",
    "                                             \n",
    "Q1)What exactly is []?  \n",
    "Ans- [ ] is a empty list, like a =[ ] .\n",
    "\n",
    "Q2)In a list of values stored in a variable called spam, how would you assign the value 'hello'; as the\n",
    "third value? (Assume [2, 4, 6, 8, 10] are in spam.)\n",
    "Ans-"
   ]
  },
  {
   "cell_type": "code",
   "execution_count": 4,
   "id": "33dd5423",
   "metadata": {},
   "outputs": [
    {
     "data": {
      "text/plain": [
       "[2, 4, ['hello'], 8, 10]"
      ]
     },
     "execution_count": 4,
     "metadata": {},
     "output_type": "execute_result"
    }
   ],
   "source": [
    "#ans of Q2\n",
    "spam=[2,4,6,8,10]\n",
    "spam[2]=['hello']\n",
    "spam"
   ]
  },
  {
   "cell_type": "raw",
   "id": "8e791042",
   "metadata": {},
   "source": [
    "Q3)What is the value of spam[int(int(3 * 2) / 11)]?\n",
    "Lets pretend the spam includes the list ['a', 'b','c','d'] for the next three queries."
   ]
  },
  {
   "cell_type": "code",
   "execution_count": 9,
   "id": "69bfbe60",
   "metadata": {},
   "outputs": [
    {
     "data": {
      "text/plain": [
       "'d'"
      ]
     },
     "execution_count": 9,
     "metadata": {},
     "output_type": "execute_result"
    }
   ],
   "source": [
    "#ans of Q3\n",
    "spam=['a','b','c','d']\n",
    "spam[int(int('3'*2)/11)]"
   ]
  },
  {
   "cell_type": "raw",
   "id": "c6950f78",
   "metadata": {},
   "source": [
    "Q3)What is the value of spam[int(int(3 * 2) / 11)]?\n",
    "Lets pretend the spam includes the list ['a', 'b','c','d'] for the next three queries."
   ]
  },
  {
   "cell_type": "code",
   "execution_count": 9,
   "id": "ebc9dccd",
   "metadata": {},
   "outputs": [
    {
     "data": {
      "text/plain": [
       "'d'"
      ]
     },
     "execution_count": 9,
     "metadata": {},
     "output_type": "execute_result"
    }
   ],
   "source": [
    "#ans of Q3\n",
    "spam=['a','b','c','d']\n",
    "spam[int(int('3'*2)/11)]"
   ]
  },
  {
   "cell_type": "code",
   "execution_count": 10,
   "id": "396228c6",
   "metadata": {},
   "outputs": [
    {
     "data": {
      "text/plain": [
       "'d'"
      ]
     },
     "execution_count": 10,
     "metadata": {},
     "output_type": "execute_result"
    }
   ],
   "source": [
    "#Q4) What is the value of spam[-1]?\n",
    "#ans-\n",
    "spam=['a','b','c','d']\n",
    "spam[-1] #the -1 means the negetive index of this list"
   ]
  },
  {
   "cell_type": "code",
   "execution_count": 13,
   "id": "979ed2a6",
   "metadata": {},
   "outputs": [
    {
     "data": {
      "text/plain": [
       "['a', 'b']"
      ]
     },
     "execution_count": 13,
     "metadata": {},
     "output_type": "execute_result"
    }
   ],
   "source": [
    "#Q5)What is the value of spam[:2]?\n",
    "#Ans-\n",
    "spam=['a','b','c','d']\n",
    "spam[:2]  "
   ]
  },
  {
   "cell_type": "raw",
   "id": "2d84b2a5",
   "metadata": {},
   "source": [
    "Q6)Let's pretend bacon has the list [3.14, 'cat' 11, 'cat' True] for the next three questions.\n",
    "What is the value of bacon.index('cat')?"
   ]
  },
  {
   "cell_type": "code",
   "execution_count": 14,
   "id": "1c0d1d8e",
   "metadata": {},
   "outputs": [
    {
     "data": {
      "text/plain": [
       "1"
      ]
     },
     "execution_count": 14,
     "metadata": {},
     "output_type": "execute_result"
    }
   ],
   "source": [
    "#Ans-\n",
    "bacon=[3.14,'cat',11,'cat',True]\n",
    "bacon.index('cat') #it shows the index of 'cat' for first occurrence"
   ]
  },
  {
   "cell_type": "raw",
   "id": "9567dbf0",
   "metadata": {},
   "source": [
    "Q7)How does bacon.append(99) change the look of the list value in bacon?"
   ]
  },
  {
   "cell_type": "code",
   "execution_count": 17,
   "id": "1fb6e623",
   "metadata": {},
   "outputs": [
    {
     "data": {
      "text/plain": [
       "[3.14, 'cat', 11, 'cat', True, 99]"
      ]
     },
     "execution_count": 17,
     "metadata": {},
     "output_type": "execute_result"
    }
   ],
   "source": [
    "#Ans of Q7\n",
    "bacon=[3.14,'cat',11,'cat',True]\n",
    "bacon.append(99) #it adds 99 at last position of the list bacon\n",
    "bacon"
   ]
  },
  {
   "cell_type": "raw",
   "id": "f98ec48a",
   "metadata": {},
   "source": [
    "Q8)How does bacon.remove('cat') change the look of the list in bacon?"
   ]
  },
  {
   "cell_type": "code",
   "execution_count": 18,
   "id": "586d258c",
   "metadata": {},
   "outputs": [
    {
     "data": {
      "text/plain": [
       "[3.14, 11, 'cat', True]"
      ]
     },
     "execution_count": 18,
     "metadata": {},
     "output_type": "execute_result"
    }
   ],
   "source": [
    "#Ans of Q8\n",
    "bacon=[3.14,'cat',11,'cat',True]\n",
    "bacon.remove('cat') #removes 'cat' of first occurrence\n",
    "bacon"
   ]
  },
  {
   "cell_type": "raw",
   "id": "59dd49e9",
   "metadata": {},
   "source": [
    "Q9)What are the list concatenation and list replication operators?\n",
    "Ans- ( * ) is list replication operator ( + ) is list concatination operator"
   ]
  },
  {
   "cell_type": "code",
   "execution_count": 19,
   "id": "b3c5c9bf",
   "metadata": {},
   "outputs": [
    {
     "data": {
      "text/plain": [
       "[1, 2, 3, 4, 5, 6]"
      ]
     },
     "execution_count": 19,
     "metadata": {},
     "output_type": "execute_result"
    }
   ],
   "source": [
    "#Ans of Q9\n",
    "list1=[1,2,3]\n",
    "list2=[4,5,6]\n",
    "list1+list2  #LIST CONCATENATION"
   ]
  },
  {
   "cell_type": "code",
   "execution_count": 20,
   "id": "0f571695",
   "metadata": {},
   "outputs": [
    {
     "data": {
      "text/plain": [
       "[1, 2, 3, 1, 2, 3, 1, 2, 3]"
      ]
     },
     "execution_count": 20,
     "metadata": {},
     "output_type": "execute_result"
    }
   ],
   "source": [
    "list1=[1,2,3]\n",
    "list1*3 #List replication"
   ]
  },
  {
   "cell_type": "raw",
   "id": "3f7d26c2",
   "metadata": {},
   "source": [
    "Q10)What is difference between the list methods append() and insert()?\n",
    "Ans- append()- Appends value to the end of the list\n",
    "insert()- Insert object into list"
   ]
  },
  {
   "cell_type": "code",
   "execution_count": 22,
   "id": "14b40477",
   "metadata": {},
   "outputs": [
    {
     "data": {
      "text/plain": [
       "[10, 'hi', 'rock', 22, 'fsds']"
      ]
     },
     "execution_count": 22,
     "metadata": {},
     "output_type": "execute_result"
    }
   ],
   "source": [
    "#eg: for Q10\n",
    "a=[10,'rock',22]\n",
    "a.append('fsds') #append adds 'fsds' at the end position\n",
    "a.insert(1,'hi') #insert adds 'hi' second position\n",
    "a"
   ]
  },
  {
   "cell_type": "raw",
   "id": "84c181d0",
   "metadata": {},
   "source": [
    "Q11)What are the two methods for removing items from a list? "
   ]
  },
  {
   "cell_type": "code",
   "execution_count": 27,
   "id": "5b7ba34e",
   "metadata": {},
   "outputs": [
    {
     "data": {
      "text/plain": [
       "[10, 22, 'kohli']"
      ]
     },
     "execution_count": 27,
     "metadata": {},
     "output_type": "execute_result"
    }
   ],
   "source": [
    "#Ans of Q11\n",
    "a=[10,'rock',22,'kohli']\n",
    "a.remove('rock') #remove can remove any value from list\n",
    "a"
   ]
  },
  {
   "cell_type": "code",
   "execution_count": 28,
   "id": "fa5f52bd",
   "metadata": {},
   "outputs": [
    {
     "data": {
      "text/plain": [
       "[10, 'rock', 22]"
      ]
     },
     "execution_count": 28,
     "metadata": {},
     "output_type": "execute_result"
    }
   ],
   "source": [
    "a=[10,'rock',22,'kohli']\n",
    "a.pop() #pop remove the last item of list\n",
    "a"
   ]
  },
  {
   "cell_type": "raw",
   "id": "fdc01071",
   "metadata": {},
   "source": [
    "Q12)Describe how list values and string values are identical.\n",
    "Ans-The similarity between Lists and Strings in Python is that both are sequences. The differences between them are that firstly, Lists are mutable but Strings are immutable. Secondly, elements of a list can be of different types whereas a String only contains characters that are all of String type.\n",
    "\n",
    "Q13)What's the difference between tuples and lists?\n",
    "Ans-Lists : are mutable - they can have values added, removed, or changed. lists use the square brackets, []\n",
    "Tuples : are immutable; they cannot be changed at all. Tuples are written using parentheses, ()"
   ]
  },
  {
   "cell_type": "raw",
   "id": "b0c4323b",
   "metadata": {},
   "source": [
    "Q14)How do you type a tuple value that only contains the integer 42?"
   ]
  },
  {
   "cell_type": "code",
   "execution_count": 32,
   "id": "7f53b894",
   "metadata": {},
   "outputs": [
    {
     "data": {
      "text/plain": [
       "(42,)"
      ]
     },
     "execution_count": 32,
     "metadata": {},
     "output_type": "execute_result"
    }
   ],
   "source": [
    "#Ans of Q14\n",
    "tuple=(42,)\n",
    "tuple"
   ]
  },
  {
   "cell_type": "raw",
   "id": "eff96556",
   "metadata": {},
   "source": [
    "Q15)How do you get a list value's tuple form? How do you get a tuple value's list form?\n"
   ]
  },
  {
   "cell_type": "code",
   "execution_count": null,
   "id": "63731554",
   "metadata": {},
   "outputs": [],
   "source": [
    "#Ansof Q15\n",
    "t1=(1,2,3)\n",
    "l=list(t1)\n",
    "l"
   ]
  },
  {
   "cell_type": "code",
   "execution_count": null,
   "id": "1b6731d6",
   "metadata": {},
   "outputs": [],
   "source": [
    "#Ansof Q15\n",
    "l1=[4,5,6]\n",
    "t=tuple(l1)\n",
    "t"
   ]
  },
  {
   "cell_type": "raw",
   "id": "aa44d8a8",
   "metadata": {},
   "source": [
    "Q16)Variables that \"contain\" list values are not necessarily lists themselves. Instead, what do they contain?\n",
    "Ans-They contain references to list values.\n",
    "\n",
    "Q17)How do you distinguish between copy.copy() and copy.deepcopy()?\n",
    "Ans-The difference between  copy.copy() and  copy.deepcopy() is only relevant for compound objects (objects that contain other objects, like lists or class instances)\n",
    "A copy.copy()  constructs a new compound object and then inserts references into it to the objects found in the original.\n",
    "A  copy.deepcopy() constructs a new compound object and then, recursively, inserts copies into it of the objects found in the original.\n"
   ]
  },
  {
   "cell_type": "code",
   "execution_count": null,
   "id": "5ad0cb45",
   "metadata": {},
   "outputs": [],
   "source": []
  }
 ],
 "metadata": {
  "kernelspec": {
   "display_name": "Python 3 (ipykernel)",
   "language": "python",
   "name": "python3"
  },
  "language_info": {
   "codemirror_mode": {
    "name": "ipython",
    "version": 3
   },
   "file_extension": ".py",
   "mimetype": "text/x-python",
   "name": "python",
   "nbconvert_exporter": "python",
   "pygments_lexer": "ipython3",
   "version": "3.9.12"
  }
 },
 "nbformat": 4,
 "nbformat_minor": 5
}
