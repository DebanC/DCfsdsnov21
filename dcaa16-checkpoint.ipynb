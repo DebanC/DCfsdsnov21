{
 "cells": [
  {
   "cell_type": "markdown",
   "id": "4ec61135",
   "metadata": {},
   "source": [
    "                                   ASSIGNMENT 16"
   ]
  },
  {
   "cell_type": "markdown",
   "id": "819a9c96",
   "metadata": {},
   "source": [
    "1. Create a list called years_list, starting with the year of your birth, and each year thereafter until\n",
    "the year of your fifth birthday. For example, if you were born in 1980. the list would be years_list =\n",
    "[1980, 1981, 1982, 1983, 1984, 1985]."
   ]
  },
  {
   "cell_type": "code",
   "execution_count": 4,
   "id": "7468c99b",
   "metadata": {},
   "outputs": [
    {
     "name": "stdout",
     "output_type": "stream",
     "text": [
      "[1980, 1981, 1982, 1983, 1984, 1985]\n"
     ]
    }
   ],
   "source": [
    "#ANS\n",
    "# Define the year of your birth\n",
    "year_of_birth = 1980  # Replace 1980 with your birth year\n",
    "\n",
    "# Create a list starting with the year of birth and going until the year of your fifth birthday\n",
    "years_list = list(range(year_of_birth, year_of_birth + 6))\n",
    "\n",
    "# Print the list\n",
    "print(years_list)\n",
    "\n"
   ]
  },
  {
   "cell_type": "markdown",
   "id": "741ec768",
   "metadata": {},
   "source": [
    "2. In which year in years_list was your third birthday? Remember, you were 0 years of age for your\n",
    "first year"
   ]
  },
  {
   "cell_type": "code",
   "execution_count": 5,
   "id": "ba46809a",
   "metadata": {},
   "outputs": [
    {
     "name": "stdout",
     "output_type": "stream",
     "text": [
      "The year of your third birthday is 1983.\n"
     ]
    }
   ],
   "source": [
    "#ANS\n",
    "# Define the year of your birth\n",
    "year_of_birth = 1980  # Replace 1980 with your birth year\n",
    "\n",
    "# Calculate the year of your third birthday\n",
    "third_birthday_year = year_of_birth + 3\n",
    "\n",
    "# Print the year of your third birthday\n",
    "print(f\"The year of your third birthday is {third_birthday_year}.\")\n"
   ]
  },
  {
   "cell_type": "markdown",
   "id": "412bca6d",
   "metadata": {},
   "source": [
    "3.In the years list, which year were you the oldest?"
   ]
  },
  {
   "cell_type": "code",
   "execution_count": 6,
   "id": "cf8c55ca",
   "metadata": {},
   "outputs": [
    {
     "name": "stdout",
     "output_type": "stream",
     "text": [
      "The year in which you were the oldest is 1985.\n"
     ]
    }
   ],
   "source": [
    "#ANS\n",
    "# Define the year of your birth\n",
    "year_of_birth = 1980  # Replace 1980 with your birth year\n",
    "\n",
    "# Create a list starting with the year of birth and going until the year of your fifth birthday\n",
    "years_list = list(range(year_of_birth, year_of_birth + 6))\n",
    "\n",
    "# The last year in the list is when you are the oldest\n",
    "year_of_being_oldest = years_list[-1]\n",
    "\n",
    "# Print the year of being the oldest\n",
    "print(f\"The year in which you were the oldest is {year_of_being_oldest}.\")\n"
   ]
  },
  {
   "cell_type": "markdown",
   "id": "5c3013bd",
   "metadata": {},
   "source": [
    "4. Make a list called things with these three strings as elements: \"mozzarella\", \"cinderella\",\n",
    "\"salmonella\"."
   ]
  },
  {
   "cell_type": "code",
   "execution_count": 7,
   "id": "3190a18e",
   "metadata": {},
   "outputs": [
    {
     "name": "stdout",
     "output_type": "stream",
     "text": [
      "['mozzarella', 'cinderella', 'salmonella']\n"
     ]
    }
   ],
   "source": [
    "#ANS\n",
    "# Create a list called things with the specified strings\n",
    "things = [\"mozzarella\", \"cinderella\", \"salmonella\"]\n",
    "\n",
    "# Print the list\n",
    "print(things)\n"
   ]
  },
  {
   "cell_type": "markdown",
   "id": "e5de633c",
   "metadata": {},
   "source": [
    "5. Capitalize the element in things that refers to a person and then print the list. Did it change the\n",
    "element in the list?"
   ]
  },
  {
   "cell_type": "code",
   "execution_count": 8,
   "id": "54999210",
   "metadata": {},
   "outputs": [
    {
     "name": "stdout",
     "output_type": "stream",
     "text": [
      "['mozzarella', 'Cinderella', 'salmonella']\n"
     ]
    }
   ],
   "source": [
    "#ANS\n",
    "# Create a list called things with the specified strings\n",
    "things = [\"mozzarella\", \"cinderella\", \"salmonella\"]\n",
    "\n",
    "# Capitalize the element that refers to a person (\"cinderella\")\n",
    "person_index = things.index(\"cinderella\")\n",
    "things[person_index] = things[person_index].capitalize()\n",
    "\n",
    "# Print the list to see if the element has changed\n",
    "print(things)\n"
   ]
  },
  {
   "cell_type": "markdown",
   "id": "9bf185d7",
   "metadata": {},
   "source": [
    "6. Make a surprise list with the elements \"Groucho\",\"Chico\",\"Harpo\" ."
   ]
  },
  {
   "cell_type": "code",
   "execution_count": 9,
   "id": "7f77b1d3",
   "metadata": {},
   "outputs": [
    {
     "name": "stdout",
     "output_type": "stream",
     "text": [
      "['Groucho', 'Chico', 'Harpo']\n"
     ]
    }
   ],
   "source": [
    "#ANS\n",
    "# Create a list called surprise with the specified elements\n",
    "surprise = [\"Groucho\", \"Chico\", \"Harpo\"]\n",
    "\n",
    "# Print the list\n",
    "print(surprise)\n"
   ]
  },
  {
   "cell_type": "markdown",
   "id": "c8a686be",
   "metadata": {},
   "source": [
    "7. Lowercase the last element of the surprise list, reverse it, and then capitalize it."
   ]
  },
  {
   "cell_type": "code",
   "execution_count": 10,
   "id": "27dcd0aa",
   "metadata": {},
   "outputs": [
    {
     "name": "stdout",
     "output_type": "stream",
     "text": [
      "['Groucho', 'Chico', 'Oprah']\n"
     ]
    }
   ],
   "source": [
    "#ANS\n",
    "# Create a list called surprise with the specified elements\n",
    "surprise = [\"Groucho\", \"Chico\", \"Harpo\"]\n",
    "\n",
    "# Get the last element of the list (index -1)\n",
    "last_element = surprise[-1]\n",
    "\n",
    "# Lowercase the last element, reverse it, and then capitalize it\n",
    "modified_element = last_element.lower()[::-1].capitalize()\n",
    "\n",
    "# Replace the last element in the list with the modified element\n",
    "surprise[-1] = modified_element\n",
    "\n",
    "# Print the list to see the changes\n",
    "print(surprise)\n"
   ]
  },
  {
   "cell_type": "markdown",
   "id": "d8f1da47",
   "metadata": {},
   "source": [
    "8. Make an English-to-French dictionary called e2f and print it. Here are your starter words: dog is\n",
    "chien, cat is chat, and walrus is morse."
   ]
  },
  {
   "cell_type": "code",
   "execution_count": 11,
   "id": "c30d8807",
   "metadata": {},
   "outputs": [
    {
     "name": "stdout",
     "output_type": "stream",
     "text": [
      "{'dog': 'chien', 'cat': 'chat', 'walrus': 'morse'}\n"
     ]
    }
   ],
   "source": [
    "#ANS\n",
    "# Create an English-to-French dictionary called e2f\n",
    "e2f = {\n",
    "    \"dog\": \"chien\",\n",
    "    \"cat\": \"chat\",\n",
    "    \"walrus\": \"morse\"\n",
    "}\n",
    "\n",
    "# Print the dictionary\n",
    "print(e2f)\n"
   ]
  },
  {
   "cell_type": "markdown",
   "id": "e5aa354f",
   "metadata": {},
   "source": [
    "9. Write the French word for walrus in your three-word dictionary e2f."
   ]
  },
  {
   "cell_type": "code",
   "execution_count": 12,
   "id": "3a7b1209",
   "metadata": {},
   "outputs": [
    {
     "name": "stdout",
     "output_type": "stream",
     "text": [
      "The French word for 'walrus' is 'morse'.\n"
     ]
    }
   ],
   "source": [
    "#ANS\n",
    "# Create an English-to-French dictionary called e2f\n",
    "e2f = {\n",
    "    \"dog\": \"chien\",\n",
    "    \"cat\": \"chat\",\n",
    "    \"walrus\": \"morse\"\n",
    "}\n",
    "\n",
    "# Get the French word for \"walrus\" from the dictionary\n",
    "french_word_for_walrus = e2f[\"walrus\"]\n",
    "\n",
    "# Print the French word for \"walrus\"\n",
    "print(f\"The French word for 'walrus' is '{french_word_for_walrus}'.\")\n",
    "\n"
   ]
  },
  {
   "cell_type": "markdown",
   "id": "94ed70dc",
   "metadata": {},
   "source": [
    "10 Make a multilevel dictionary called life. Use these strings for the topmost keys: 'animals', 'plants', and 'other'. Make the 'animals' key refer to another dictionary with the keys 'cats', 'octopi', and 'emus'. Make the 'cats' key refer to a list of strings with the values 'Henri', 'Grumpy', and 'Lucy'. Make all the other keys refer to empty dictionaries."
   ]
  },
  {
   "cell_type": "code",
   "execution_count": 13,
   "id": "a9d9a63a",
   "metadata": {},
   "outputs": [
    {
     "data": {
      "text/plain": [
       "{'animals': {'cat': ['Henri', 'Grumpy', 'Lucy'], 'octopi': '', 'emus': ''},\n",
       " 'plants': '',\n",
       " 'other': ''}"
      ]
     },
     "execution_count": 13,
     "metadata": {},
     "output_type": "execute_result"
    }
   ],
   "source": [
    "#ANS\n",
    "life ={'animals':{'cat':['Henri', 'Grumpy', 'Lucy'], 'octopi':'', 'emus':''},\n",
    "       'plants' :'',\n",
    "       'other' :'' }\n",
    "life\n"
   ]
  },
  {
   "cell_type": "markdown",
   "id": "8e2e057a",
   "metadata": {},
   "source": [
    "11  Print the top-level keys of life."
   ]
  },
  {
   "cell_type": "code",
   "execution_count": 14,
   "id": "20bb945f",
   "metadata": {},
   "outputs": [
    {
     "data": {
      "text/plain": [
       "dict_keys(['animals', 'plants', 'other'])"
      ]
     },
     "execution_count": 14,
     "metadata": {},
     "output_type": "execute_result"
    }
   ],
   "source": [
    "#ANS\n",
    "\n",
    "life.keys()"
   ]
  },
  {
   "cell_type": "markdown",
   "id": "37cc4bf2",
   "metadata": {},
   "source": [
    "12 Print the keys for life['animals']."
   ]
  },
  {
   "cell_type": "code",
   "execution_count": 15,
   "id": "0880fb66",
   "metadata": {},
   "outputs": [
    {
     "data": {
      "text/plain": [
       "dict_keys(['cat', 'octopi', 'emus'])"
      ]
     },
     "execution_count": 15,
     "metadata": {},
     "output_type": "execute_result"
    }
   ],
   "source": [
    "#ANS\n",
    "\n",
    "life['animals'].keys()"
   ]
  },
  {
   "cell_type": "markdown",
   "id": "320e5745",
   "metadata": {},
   "source": [
    "13 Q. Print the values for life['animals']['cat']\n"
   ]
  },
  {
   "cell_type": "code",
   "execution_count": 17,
   "id": "24d97fd8",
   "metadata": {},
   "outputs": [
    {
     "data": {
      "text/plain": [
       "['Henri', 'Grumpy', 'Lucy']"
      ]
     },
     "execution_count": 17,
     "metadata": {},
     "output_type": "execute_result"
    }
   ],
   "source": [
    "#ANS\n",
    "\n",
    "life['animals']['cat']"
   ]
  },
  {
   "cell_type": "code",
   "execution_count": null,
   "id": "75234e38",
   "metadata": {},
   "outputs": [],
   "source": []
  }
 ],
 "metadata": {
  "kernelspec": {
   "display_name": "Python 3 (ipykernel)",
   "language": "python",
   "name": "python3"
  },
  "language_info": {
   "codemirror_mode": {
    "name": "ipython",
    "version": 3
   },
   "file_extension": ".py",
   "mimetype": "text/x-python",
   "name": "python",
   "nbconvert_exporter": "python",
   "pygments_lexer": "ipython3",
   "version": "3.11.5"
  }
 },
 "nbformat": 4,
 "nbformat_minor": 5
}
