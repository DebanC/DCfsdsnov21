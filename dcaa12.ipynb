{
 "cells": [
  {
   "cell_type": "raw",
   "id": "c5f5dbd0",
   "metadata": {},
   "source": [
    "                                                    Assignment 12\n",
    "Q1. In what modes should the PdfFileReader() and PdfFileWriter() File objects will be opened?\n",
    "Ans-These files will be opened in binary mode., read binary (rb) for PdfFileREader() and write binary (wb) PdfFileWriter() ."
   ]
  },
  {
   "cell_type": "code",
   "execution_count": 1,
   "id": "0f2280b4",
   "metadata": {},
   "outputs": [
    {
     "name": "stdout",
     "output_type": "stream",
     "text": [
      "Collecting PyPDF2\n",
      "  Downloading PyPDF2-2.10.9-py3-none-any.whl (218 kB)\n",
      "Requirement already satisfied: typing-extensions>=3.10.0.0 in c:\\users\\subhomita\\anaconda3\\lib\\site-packages (from PyPDF2) (4.1.1)\n",
      "Installing collected packages: PyPDF2\n",
      "Successfully installed PyPDF2-2.10.9\n"
     ]
    }
   ],
   "source": [
    "Q2. From a PdfFileReader object, how do you get a Page object for page 5?\n",
    "!pip install PyPDF2"
   ]
  },
  {
   "cell_type": "code",
   "execution_count": 15,
   "id": "eee9513a",
   "metadata": {},
   "outputs": [
    {
     "data": {
      "text/plain": [
       "\"CANARA BANK, GOVERNMENT BUSINESS SECTION, H.O, BANGALORE\\nDesignated branches for handling UGC Scholasrhip Schemes\\nSL \\nNO\\n. CIRCLECIRCLE WISE LIST OF \\nDESIGNATED     BRANCHESD P \\nCode Phone Number E.Mail ID\\nAvanashi 1244 04296-273242 cb1244@canarabank.com\\nPSG CAS 2988 0422-2573404 cb2988@canarabank.com\\nSakthinagar 1332 04256-246371 cb1332@canarabank.com\\nDharapuram 1243 04258-220351 cb1243@canarabank.com\\nVellakoil 1027 04257-260574 cb1027@canarabank.com\\nSuramangalam 1219 0427-2448118 cb1219@canarabank.com\\nGobi 1236 04285-222218 cb1236@canarabank.com\\n7MEERUT Noida Main 1177 0120-2529164 cb1177@canarabank.com\\nGhaziabad Main 1149 0120-2793451 cb1149@canarabank.com\\nAbu Lane Meerut 0199 0121-2660733 cb199@canarabank.com\\n8AGRA Agra, M G Road 0192 0562-2522445 cb192@canarabank.com\\nMathura Main 0198 0565-2501686 cb198@canarabank.com\\nAligarh Main 0364 0571-2525220 cb364@canarabank.com\\nJhansi Main 1431 0510-2448051 cb1431@canarabank.com\\nAgra, Raja Ki Mandi 2481 0562-2265303 cb2481@canarabank.com\\nEtawah 2788 05688-253869 cb2788@canarabank.com\\n9LUCKNOW Lanka Varanasi 2453 0542-2310367 cb2453@canarabank.com\\nZero Road,AllaHABAD 2146 0532-2400531 cb2146@canarabank.com\\nVipinkhand,Lucknow 2405 0522-2302834 cb2405@canarabank.com\\nHazrathganj,Lucknow 0363 0522-2726313 cb363@canarabank.com\\n10PUNE Model Colony,Pune 0262 020-25653211 cb262@canarabank.com\\nShahaganj,Aurangabad 0233 095240-2334525 cb233@canarabank.com\\nLaxmipuri,Kolhapur 0304 095231-2641467 cb304@canarabank.com\\nAurangabad Main 0233 0240-2334523 cb233@canarabank.com\\n11VISAKHAKAPATN\\nAM Rajam,Srikakulam 3188 08934-203038 cb3188@canarabank.com\\nChintalavalasa 3119 08922-241444 cb3119@canarabank.com\\nPhoolbagh 8480 08922-272186 cb8480@canarabank.com\\nM V P Colony, V'Patnam 2500 0891-2547932 cb2500@canarabank.com\\nDabagardens, V' Patnam 0620 0891-2547927 cb620@canarabank.com\\nGajuwaka, V' Patnam 2609 0891-2547935 cb2609@canarabank.com\\nKakinada 0626 0884-2376207 cb626@canarabank.com\\nRajahmundry 0642 0883-2436345 cb642@canarabank.com\\nAmalapuram 2429 08856-232194 cb2429@canarabank.com\\n  Amalapuram, Chaitanya Nagar 3118 08856-201888 cb3118@canarabank.com\\nTanuku  2776 08819-22-611 cb2776@canarabank.com\\nEluru 0605 08812-252619 cb605@canarabank.com\\nBhimavaram 0777 08816-230520 cb777@canarabank.com\\nPatamada,Vijayawada 0892 0866-2476638 cb892@canarabank.com\\nPedakakani 1311 0863-2556048 cb1311@canarabank.com\\nGuntur 0605 0863-2268018 cb605@canarabank.com\\nBapatla 1418 08643-224199 cb1418@canarabank.com\\nOngole 2536 08592-231502 cb2536@canarabank.com\\nNellore 0628 0861-2326537 cb628@canarabank.com\\n12BHOPAL Rewa 1411 07662-250454 cb1411@canarabank.com\\nJabalpur City 0380 0761-2310381 cb380@canarabank.com\\nSaugor 0297 07582-244213 cb297@canarabank.com\\nBhopal Polytechnic, Choraha 3765 0755-2666891 cb3765@canarabank.com\\nPalasia Point,Indore 3199 9329269422 cb3199@canarabank.com\\nM.P Nagar,Bhopal 2073 0755-2553187 cb2073@canarabank.com\\n13MYSORE Jayalakshmipuram,Mysore 0566 0566-2528297 cb566@canarabank.com\\nSaraswathipuram,Mysore 0876 0876-2528218 cb876@canarabank.com\\nKuvempunagar,Hassan 2438 1512-2528289 cb2438@canarabank.com\""
      ]
     },
     "execution_count": 15,
     "metadata": {},
     "output_type": "execute_result"
    }
   ],
   "source": [
    "#Q2\n",
    "import PyPDF2 as pdf\n",
    "pdf_file=open(\"UGC_BRANCH_LIST.pdf\",'rb')\n",
    "pdf_file\n",
    "pdfReader=pdf.PdfFileReader(pdf_file)\n",
    "pdfobj=pdfReader.getPage(4)\n",
    "pdfobj.extractText()"
   ]
  },
  {
   "cell_type": "code",
   "execution_count": null,
   "id": "01b0bdb4",
   "metadata": {},
   "outputs": [],
   "source": [
    "Q3. What PdfFileReader variable stores the number of pages in the PDF document?"
   ]
  },
  {
   "cell_type": "code",
   "execution_count": 16,
   "id": "2a2c79df",
   "metadata": {},
   "outputs": [
    {
     "data": {
      "text/plain": [
       "10"
      ]
     },
     "execution_count": 16,
     "metadata": {},
     "output_type": "execute_result"
    }
   ],
   "source": [
    "#Ans of Q3\n",
    "import PyPDF2 as pdf\n",
    "pdf_file=open(\"UGC_BRANCH_LIST.pdf\",'rb')\n",
    "pdfReader=pdf.PdfFileReader(pdf_file)\n",
    "pdfReader.numPages"
   ]
  },
  {
   "cell_type": "raw",
   "id": "d0bd72f4",
   "metadata": {},
   "source": [
    "Q4. If a PdfFileReader object’s PDF is encrypted with the password swordfish, what must you do before you can obtain Page objects from it?\n",
    "Ans-Before we obtain the page object, the pdf has to be decrypted by calling .decrypt('swordfish') .\n",
    "\n",
    "Q5. What methods do you use to rotate a page?\n",
    "Ans- pageObj.rotateClockwise(180)\n",
    "\n",
    "The rotateClockwise() and rotateCounterClockwise() methods. The degrees to rotate is passed as an integer argument\n",
    "\n",
    "Q6. What is the difference between a Run object and a Paragraph object?\n",
    "Ans- Paragraph Object : A document contains multiple paragraphs. A paragraph begins on a new line and contains multiple runs. The Document object contains a list of Paragraph objects for the paragraphs in the document. (A new paragraph begins whenever the user presses ENTER or RETURN while typing in a Word document.)\n",
    "Run Objects : Runs are contiguous groups of characters within a paragraph with the same style.\n",
    "\n",
    "Q7. How do you obtain a list of Paragraph objects for a Document object that’s stored in a variable named doc?\n",
    "Ans- #!pip install python-docx\n",
    "import docx\n",
    "doc = docx.Document('ineuron.docx')\n",
    "doc.paragraphs\n",
    "#By using doc.paragraphs\n",
    "\n",
    "Q8.  What type of object has bold, underline, italic, strike, and outline variables?\n",
    "Ans-A Run object has bold, underline,italic,strike and outline variables.\n",
    "\n",
    "Q9. What is the difference between False, True, and None for the bold variable?\n",
    "Ans- Runs can be further styled using text attributes. Each attribute can be set to one of three values:\n",
    "True (the attribute is always enabled, no matter what other styles are applied to the run),\n",
    "False (the attribute is always disabled),\n",
    "None (defaults to whatever the run’s style is set to)\n",
    "\n",
    "True always makes the Run object bolded and False makes it always not bolded, no matter what the style’s bold setting is. None will make the Run object just use the style’s bold setting .\n",
    "\n",
    "Q10.How do you create a Document object for a new Word document?\n",
    "\n",
    "Ans. By Calling the docx.Document() function.\n",
    "\n",
    "Q11. How do you add a paragraph with the text 'Hello, there!'' to a Document object stored in a variable named doc?"
   ]
  },
  {
   "cell_type": "code",
   "execution_count": null,
   "id": "e4dc8bc9",
   "metadata": {},
   "outputs": [],
   "source": [
    "#ans of Q11\n",
    "import docx\n",
    "doc = docx.Document()\n",
    "\n",
    "doc.add_paragraph('Hello there!')\n",
    "doc.save('hellothere.docx')"
   ]
  },
  {
   "cell_type": "raw",
   "id": "0f7fba11",
   "metadata": {},
   "source": [
    "Q12.  What integers represent the levels of headings available in Word documents?\n",
    "\n",
    "Ans-\n",
    "integer from 0 to 4\n",
    "The arguments to add_heading() are a string of the heading text and an integer from 0 to 4. The integer 0 makes the heading the Title style, which is used for the top of the document. Integers 1 to 4 are for various heading levels, with 1 being the main heading and 4 the lowest subheading\n"
   ]
  }
 ],
 "metadata": {
  "kernelspec": {
   "display_name": "Python 3 (ipykernel)",
   "language": "python",
   "name": "python3"
  },
  "language_info": {
   "codemirror_mode": {
    "name": "ipython",
    "version": 3
   },
   "file_extension": ".py",
   "mimetype": "text/x-python",
   "name": "python",
   "nbconvert_exporter": "python",
   "pygments_lexer": "ipython3",
   "version": "3.9.12"
  }
 },
 "nbformat": 4,
 "nbformat_minor": 5
}
