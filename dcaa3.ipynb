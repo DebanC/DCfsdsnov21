{
 "cells": [
  {
   "cell_type": "raw",
   "id": "f3719fc6",
   "metadata": {},
   "source": [
    "                                    Assignment 3\n",
    "Q1) Why are functions advantageous to have in your programs? \n",
    "Ans- It can define by user which can reduce the need for duplicate code. This makes programs shorter, easier to read, and easier to update.\n",
    "\n",
    "Q3)What statement creates a function?\n",
    "Ans- The def statement creates function."
   ]
  },
  {
   "cell_type": "code",
   "execution_count": 2,
   "id": "df8659a3",
   "metadata": {},
   "outputs": [
    {
     "name": "stdout",
     "output_type": "stream",
     "text": [
      "hi debanjan\n"
     ]
    }
   ],
   "source": [
    "#eg: of function\n",
    "def greetings(name):\n",
    "    print('hi',name)\n",
    "greetings('debanjan')\n"
   ]
  },
  {
   "cell_type": "raw",
   "id": "72757cc8",
   "metadata": {},
   "source": [
    "Q4)What is the difference between a function and a function call?\n",
    "Ans-A function consists of the defination statement and the code in its def clause.\n",
    "\n",
    "A function call takes us to function to execute desired program and the function call evaluates the function return values.\n",
    "\n",
    "Q5)How many global scopes are there in a Python program? How many local scopes?\n",
    "Ans- There is onreglobal scope are in there in apython program. And also there is a one local scope.\n",
    "\n",
    "Q6) What happens to variables in a local scope when the function call returns?\n",
    "Ans-When a function returns in a local scope,its abolished, and all the variables in it are lost.\n",
    "\n",
    "Q7)What is the concept of a return value? Is it possible to have a return value in an expression?\n",
    "Ans- It is nothing but a function call approach,it helps to evaluate the valeus of function.Offcourse it is possible.\n",
    "\n",
    "Q8)If a function does not have a return statement, what is the return value of a call to that function?\n",
    "\n",
    "Ans- When we don't explicitly use a return value in a return statement, or else we totally omit the return statement, then Python will implicitly return a default value for you. That default return value will always be None.\n",
    "\n",
    "Q9)How do you make a function variable refer to the global variable?\n",
    "Ans-Usually when we create a variable inside a function, that variable is local, and can only be used inside that function.\n",
    "To create a global variable inside a function we should  use the global keyword.\n",
    "If we use the global keyword, the variable belongs to the global scope .\n",
    "\n",
    "Q10) What is the data type of None?\n",
    "Ans- The None keyword is used to define a null value, or no value at all.\n",
    "None is not the same as 0, False, or an empty string. None is a data type of its own (NoneType) and only None can be None. \n",
    "\n",
    "Q11) What does the sentence import areallyourpetsnamederic do?\n",
    "\n",
    "Ans- That import statement imports a module named areallyourpetsnamederic.\n",
    "\n",
    "Q12). If you had a bacon() feature in a spam module, what would you call it after importing spam?\n",
    "Ans-This function can be called with spam.bacon().\n",
    "Q13)What can you do to save a programme from crashing if it encounters an error?\n",
    "\n",
    "Ans-Python would process all code inside the try and except statement. When it encounters an error, the control is passed to the except block, skipping the code in between."
   ]
  },
  {
   "cell_type": "code",
   "execution_count": 5,
   "id": "c315529f",
   "metadata": {},
   "outputs": [
    {
     "name": "stdout",
     "output_type": "stream",
     "text": [
      "Error occurred : can only concatenate str (not \"int\") to str\n"
     ]
    }
   ],
   "source": [
    "#eg of Q13\n",
    "def addNos(a, b):\n",
    "    try:\n",
    "        return a + b\n",
    "    except:\n",
    "        return 'Error occurred : ' + str(e)\n",
    "  \n",
    "print(addNumbers('', 10))"
   ]
  },
  {
   "cell_type": "raw",
   "id": "6c39ea4c",
   "metadata": {},
   "source": [
    "Q14) What is the purpose of the try clause? What is the purpose of the except clause?\n",
    "Ans-The code that could potentially cause an error goes in the try clause.\n",
    "\n",
    "The code that executes if an error happens goes in the except clause.\n"
   ]
  }
 ],
 "metadata": {
  "kernelspec": {
   "display_name": "Python 3 (ipykernel)",
   "language": "python",
   "name": "python3"
  },
  "language_info": {
   "codemirror_mode": {
    "name": "ipython",
    "version": 3
   },
   "file_extension": ".py",
   "mimetype": "text/x-python",
   "name": "python",
   "nbconvert_exporter": "python",
   "pygments_lexer": "ipython3",
   "version": "3.9.12"
  }
 },
 "nbformat": 4,
 "nbformat_minor": 5
}
