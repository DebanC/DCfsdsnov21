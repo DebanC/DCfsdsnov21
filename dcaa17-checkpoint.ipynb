{
 "cells": [
  {
   "cell_type": "markdown",
   "id": "352de1e3",
   "metadata": {},
   "source": [
    "                                                ASSIGNMENT 17"
   ]
  },
  {
   "cell_type": "markdown",
   "id": "5013dd1c",
   "metadata": {},
   "source": [
    "1 Q. Assign the value 7 to the variable guess_me. Then, write the conditional tests (if, else, and elif) to print the string 'too low' if guess_me is less than 7, 'too high' if greater than 7, and 'just right' if equal to 7.\n"
   ]
  },
  {
   "cell_type": "code",
   "execution_count": 8,
   "id": "003981c7",
   "metadata": {},
   "outputs": [
    {
     "name": "stdout",
     "output_type": "stream",
     "text": [
      "just right\n"
     ]
    }
   ],
   "source": [
    "#ANS\n",
    "# Assign the value 7 to the variable guess_me\n",
    "guess_me = 7\n",
    "\n",
    "# Conditional tests\n",
    "if guess_me < 7:\n",
    "    print('too low')\n",
    "elif guess_me > 7:\n",
    "    print('too high')\n",
    "else:\n",
    "    print('just right')\n"
   ]
  },
  {
   "cell_type": "markdown",
   "id": "cab0aa6a",
   "metadata": {},
   "source": [
    "2 Assign the value 7 to the variable guess_me and the value 1 to the variable start. Write a while loop that compares start with guess_me. Print too low if start is less than guess me. If start equals guess_me, print 'found it!' and exit the loop. If start is greater than guess_me, print 'oops' and exit the loop. Increment start at the end of the loop\n",
    "\n"
   ]
  },
  {
   "cell_type": "code",
   "execution_count": 9,
   "id": "ff26a91f",
   "metadata": {},
   "outputs": [
    {
     "name": "stdout",
     "output_type": "stream",
     "text": [
      "too low\n",
      "too low\n",
      "too low\n",
      "too low\n",
      "too low\n",
      "too low\n",
      "found it!\n"
     ]
    }
   ],
   "source": [
    "#ANS\n",
    "# Assign the value 7 to the variable guess_me\n",
    "guess_me = 7\n",
    "\n",
    "# Assign the value 1 to the variable start\n",
    "start = 1\n",
    "\n",
    "# While loop\n",
    "while start <= guess_me:\n",
    "    if start < guess_me:\n",
    "        print('too low')\n",
    "    elif start == guess_me:\n",
    "        print('found it!')\n",
    "        break\n",
    "    else:\n",
    "        print('oops')\n",
    "        break\n",
    "    \n",
    "    # Increment start at the end of the loop\n",
    "    start += 1\n"
   ]
  },
  {
   "cell_type": "markdown",
   "id": "ac7fd9ce",
   "metadata": {},
   "source": [
    "3 Q. Print the following values of the list [3, 2, 1, 0] using a for loop."
   ]
  },
  {
   "cell_type": "code",
   "execution_count": 10,
   "id": "74ddd97f",
   "metadata": {},
   "outputs": [
    {
     "name": "stdout",
     "output_type": "stream",
     "text": [
      "3\n",
      "2\n",
      "1\n",
      "0\n"
     ]
    }
   ],
   "source": [
    "#ANS\n",
    "# Define the list\n",
    "values = [3, 2, 1, 0]\n",
    "\n",
    "# Use a for loop to iterate through the list and print each value\n",
    "for value in values:\n",
    "    print(value)\n"
   ]
  },
  {
   "cell_type": "markdown",
   "id": "54d02daf",
   "metadata": {},
   "source": [
    "4 Use a list comprehension to make a list of the even numbers in range(10)"
   ]
  },
  {
   "cell_type": "code",
   "execution_count": 11,
   "id": "8b0f116d",
   "metadata": {},
   "outputs": [
    {
     "name": "stdout",
     "output_type": "stream",
     "text": [
      "[0, 2, 4, 6, 8]\n"
     ]
    }
   ],
   "source": [
    "#ANS\n",
    "# Create a list of even numbers in the range 0 to 9 using a list comprehension\n",
    "even_numbers = [x for x in range(10) if x % 2 == 0]\n",
    "\n",
    "# Print the list of even numbers\n",
    "print(even_numbers)\n"
   ]
  },
  {
   "cell_type": "markdown",
   "id": "a5896d75",
   "metadata": {},
   "source": [
    "5  Use a dictionary comprehension to create the dictionary squares. Use range(10) to return the keys, and use the square of each key as its value."
   ]
  },
  {
   "cell_type": "code",
   "execution_count": 12,
   "id": "8f01a5b0",
   "metadata": {},
   "outputs": [
    {
     "name": "stdout",
     "output_type": "stream",
     "text": [
      "{0: 0, 1: 1, 2: 4, 3: 9, 4: 16, 5: 25, 6: 36, 7: 49, 8: 64, 9: 81}\n"
     ]
    }
   ],
   "source": [
    "#ANS\n",
    "# Create a dictionary with keys from 0 to 9 and values as the square of each key\n",
    "squares = {x: x ** 2 for x in range(10)}\n",
    "\n",
    "# Print the dictionary\n",
    "print(squares)\n"
   ]
  },
  {
   "cell_type": "markdown",
   "id": "84cfdd53",
   "metadata": {},
   "source": [
    "6 Construct the set odd from the odd numbers in the range using a set comprehension (10)."
   ]
  },
  {
   "cell_type": "code",
   "execution_count": 13,
   "id": "c436e112",
   "metadata": {},
   "outputs": [
    {
     "name": "stdout",
     "output_type": "stream",
     "text": [
      "{1, 3, 5, 7, 9}\n"
     ]
    }
   ],
   "source": [
    "#ANS\n",
    "# Create a set of odd numbers in the range 0 to 9 using a set comprehension\n",
    "odd = {x for x in range(10) if x % 2 != 0}\n",
    "\n",
    "# Print the set of odd numbers\n",
    "print(odd)\n"
   ]
  },
  {
   "cell_type": "markdown",
   "id": "4c23e213",
   "metadata": {},
   "source": [
    "7  Use a generator comprehension to return the string 'Got' and a number for the numbers in range(10). Iterate through this by using a for loop."
   ]
  },
  {
   "cell_type": "code",
   "execution_count": 14,
   "id": "ea134ed0",
   "metadata": {},
   "outputs": [
    {
     "name": "stdout",
     "output_type": "stream",
     "text": [
      "Got 0\n",
      "Got 1\n",
      "Got 2\n",
      "Got 3\n",
      "Got 4\n",
      "Got 5\n",
      "Got 6\n",
      "Got 7\n",
      "Got 8\n",
      "Got 9\n"
     ]
    }
   ],
   "source": [
    "#ANS\n",
    "# Create a generator that returns the string 'Got' and a number for each number in range(10)\n",
    "generator = (f'Got {x}' for x in range(10))\n",
    "\n",
    "# Iterate through the generator using a for loop\n",
    "for item in generator:\n",
    "    print(item)\n"
   ]
  },
  {
   "cell_type": "markdown",
   "id": "9620fccf",
   "metadata": {},
   "source": [
    "8 Define a function called good that returns the list ['Harry', 'Ron', 'Hermione']"
   ]
  },
  {
   "cell_type": "code",
   "execution_count": 15,
   "id": "a357dceb",
   "metadata": {},
   "outputs": [
    {
     "name": "stdout",
     "output_type": "stream",
     "text": [
      "['Harry', 'Ron', 'Hermione']\n"
     ]
    }
   ],
   "source": [
    "#ANS\n",
    "# Define the function good\n",
    "def good():\n",
    "    # Return the list ['Harry', 'Ron', 'Hermione']\n",
    "    return ['Harry', 'Ron', 'Hermione']\n",
    "\n",
    "# Test the function by calling it and printing the result\n",
    "print(good())\n"
   ]
  },
  {
   "cell_type": "markdown",
   "id": "03d50e61",
   "metadata": {},
   "source": [
    "9 Q. Define a generator function called get_odds that returns the odd numbers from range(10). Use a for loop to find and print the third value returned\n"
   ]
  },
  {
   "cell_type": "code",
   "execution_count": 16,
   "id": "396e328d",
   "metadata": {},
   "outputs": [
    {
     "name": "stdout",
     "output_type": "stream",
     "text": [
      "5\n"
     ]
    }
   ],
   "source": [
    "#ANS\n",
    "# Define the generator function get_odds\n",
    "def get_odds():\n",
    "    # Use a loop to iterate through range(10)\n",
    "    for x in range(10):\n",
    "        # Yield the odd numbers\n",
    "        if x % 2 != 0:\n",
    "            yield x\n",
    "\n",
    "# Create a generator object from the get_odds function\n",
    "odds_generator = get_odds()\n",
    "\n",
    "# Initialize a counter\n",
    "count = 0\n",
    "\n",
    "# Use a for loop to iterate through the generator\n",
    "for odd in odds_generator:\n",
    "    # Increment the counter\n",
    "    count += 1\n",
    "    # When the counter reaches 3, print the third odd number and break the loop\n",
    "    if count == 3:\n",
    "        print(odd)\n",
    "        break\n"
   ]
  },
  {
   "cell_type": "markdown",
   "id": "80014eb9",
   "metadata": {},
   "source": [
    "10 Define an exception called OopsException. Raise this exception to see what happens. Then writethe code to catch this exception and print 'Caught an oops'"
   ]
  },
  {
   "cell_type": "code",
   "execution_count": 17,
   "id": "874a4e3f",
   "metadata": {},
   "outputs": [
    {
     "name": "stdout",
     "output_type": "stream",
     "text": [
      "Caught an oops\n"
     ]
    }
   ],
   "source": [
    "#ANS\n",
    "# Define an exception class called OopsException\n",
    "class OopsException(Exception):\n",
    "    pass\n",
    "\n",
    "# Function to raise OopsException\n",
    "def raise_oops_exception():\n",
    "    # Raise the OopsException\n",
    "    raise OopsException('This is an OopsException')\n",
    "\n",
    "# Try-except block to catch OopsException\n",
    "try:\n",
    "    # Call the function that raises OopsException\n",
    "    raise_oops_exception()\n",
    "except OopsException:\n",
    "    # Print 'Caught an oops' when OopsException is caught\n",
    "    print('Caught an oops')\n"
   ]
  },
  {
   "cell_type": "markdown",
   "id": "53a2899e",
   "metadata": {},
   "source": [
    "11  Use zip() to make a dictionary called movies that pairs these lists: titles = ['Creature of Habit', 'Crewel Fate'] and plots = ['A nun turns into a monster', 'A haunted yarn shop']."
   ]
  },
  {
   "cell_type": "code",
   "execution_count": 18,
   "id": "3aa9d009",
   "metadata": {},
   "outputs": [
    {
     "name": "stdout",
     "output_type": "stream",
     "text": [
      "{'Creature of Habit': 'A nun turns into a monster', 'Crewel Fate': 'A haunted yarn shop'}\n"
     ]
    }
   ],
   "source": [
    "#ANS\n",
    "# Define the lists\n",
    "titles = ['Creature of Habit', 'Crewel Fate']\n",
    "plots = ['A nun turns into a monster', 'A haunted yarn shop']\n",
    "\n",
    "# Use zip() to pair the lists and create the dictionary\n",
    "movies = dict(zip(titles, plots))\n",
    "\n",
    "# Print the dictionary\n",
    "print(movies)\n"
   ]
  },
  {
   "cell_type": "code",
   "execution_count": null,
   "id": "071dd85c",
   "metadata": {},
   "outputs": [],
   "source": []
  },
  {
   "cell_type": "code",
   "execution_count": null,
   "id": "c30c1bc4",
   "metadata": {},
   "outputs": [],
   "source": [
    "#ANS"
   ]
  },
  {
   "cell_type": "code",
   "execution_count": null,
   "id": "fabb36f0",
   "metadata": {},
   "outputs": [],
   "source": []
  },
  {
   "cell_type": "code",
   "execution_count": null,
   "id": "5dbef8c8",
   "metadata": {},
   "outputs": [],
   "source": [
    "#ANS"
   ]
  },
  {
   "cell_type": "code",
   "execution_count": null,
   "id": "01c0e9df",
   "metadata": {},
   "outputs": [],
   "source": []
  },
  {
   "cell_type": "code",
   "execution_count": null,
   "id": "c15eddd5",
   "metadata": {},
   "outputs": [],
   "source": [
    "#ANS"
   ]
  }
 ],
 "metadata": {
  "kernelspec": {
   "display_name": "Python 3 (ipykernel)",
   "language": "python",
   "name": "python3"
  },
  "language_info": {
   "codemirror_mode": {
    "name": "ipython",
    "version": 3
   },
   "file_extension": ".py",
   "mimetype": "text/x-python",
   "name": "python",
   "nbconvert_exporter": "python",
   "pygments_lexer": "ipython3",
   "version": "3.11.5"
  }
 },
 "nbformat": 4,
 "nbformat_minor": 5
}
