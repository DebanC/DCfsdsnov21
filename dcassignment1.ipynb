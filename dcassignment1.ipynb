{
 "cells": [
  {
   "cell_type": "raw",
   "id": "f6d2c4e6",
   "metadata": {},
   "source": [
    "                                                    Assignmet 1\n",
    "\n",
    "\n",
    "1. In the below elements which of them are values or an expression? eg:- values can be integer or string and expressions will be mathematical operators.\n",
    "\n",
    "* \n",
    "'hello'\n",
    "-87.8\n",
    "- \n",
    "/ \n",
    "\n",
    "6 \n",
    "\n",
    "--------\n",
    "Ans- The answer is given below---\n",
    "* (Expression)\n",
    "'hello'(string value)\n",
    "-87.8 (integer value)\n",
    "- (Expression)\n",
    "/ (Expression)\n",
    "\n",
    "6 (integer value)\n",
    "\n",
    "2. What is the difference between string and variable?\n",
    "\n",
    "Ans- A variable is a place to informations while string is an information which can store in a variable.\n",
    "eg:- x='kolkata' where a is the variable and 'kolkata' is a string.\n",
    "\n",
    "3. Describe three different data types.\n",
    "\n",
    "Ans- The three data type are \n",
    "Q1)Numbers- Number data types store numeric values. Number objects are created when you assign a value to them. \n",
    "\n",
    "Python supports three different numerical types −\n",
    "int (signed integers)\n",
    "float (floating point real values)\n",
    "complex (complex numbers).\n",
    "\n",
    "Q2)String- It is a set of informations of alphabates,charactors or words etc. It is immutable that is why can not change the information after they are created.\n",
    "\n",
    "Q3)List- A list is created within a [] separated by comma.A list is a data structure in python which is mutable,changeble,ordered sequence of elements.\n",
    "\n",
    "Q4. What is an expression made up of? What do all expressions do?\n",
    "\n",
    "Ans-Expression is made up of values, containers, and mathematical operators (>,<,+,- etc) e.g \n",
    "\n",
    " a =10+20   and expressions are used to evaluate the values or represent the result on the screen.\n",
    " \n",
    "Q5. This assignment statements, like spam = 10. What is the difference between an expression and a statement?\n",
    "\n",
    "Ans-Expression is made up of values, containers, and mathematical operators (>,<,+,- etc) and  the statement is just like a command that a python interpreter executes like print.\n",
    "\n",
    "\n",
    "\n",
    "\n",
    "\n",
    "\n",
    "\n",
    "\n"
   ]
  },
  {
   "cell_type": "code",
   "execution_count": 1,
   "id": "7a8635d3",
   "metadata": {},
   "outputs": [
    {
     "data": {
      "text/plain": [
       "23"
      ]
     },
     "execution_count": 1,
     "metadata": {},
     "output_type": "execute_result"
    }
   ],
   "source": [
    "'''Q6) After running the following code, what does the variable bacon contain?\n",
    "bacon = 22\n",
    "bacon + 1\n",
    "'''\n",
    "\n",
    "#Ans - \n",
    "\n",
    "bacon=22\n",
    "bacon+1\n"
   ]
  },
  {
   "cell_type": "code",
   "execution_count": null,
   "id": "135ed697",
   "metadata": {},
   "outputs": [],
   "source": [
    "# it shows 23 after execution."
   ]
  },
  {
   "cell_type": "code",
   "execution_count": 4,
   "id": "690e32bc",
   "metadata": {},
   "outputs": [
    {
     "name": "stdout",
     "output_type": "stream",
     "text": [
      "spamspamspam\n",
      "spamspamspam\n"
     ]
    }
   ],
   "source": [
    "''' Q7 What should the values of the following two terms be?\n",
    "'spam' + 'spamspam'\n",
    "'spam' * 3\n",
    "'''\n",
    "#Ans \n",
    "a='spam'\n",
    "b='spamspam'\n",
    "print(a+b)\n",
    "print(a*3)"
   ]
  },
  {
   "cell_type": "code",
   "execution_count": null,
   "id": "ee9d2387",
   "metadata": {},
   "outputs": [],
   "source": [
    "#output is same for both."
   ]
  },
  {
   "cell_type": "raw",
   "id": "d2fd5064",
   "metadata": {},
   "source": [
    "Q8) Why is eggs a valid variable name while 100 is invalid?\n",
    "\n",
    "Ans- Because we can't write integer as vaiable name , we should begin with a string-like alphabet name then integer like e100 or eggs100 .\n",
    "Actually A variable name cannot start with a number. A variable name can only contain alpha-numeric characters and underscores (A-z, 0-9, and _ ).\n",
    "\n",
    "Q9) What three functions can be used to get the integer, floating-point number, or string version of a value?\n",
    "\n",
    "Ans- str(), int(), float()\n",
    "\n",
    "Q10) Why does this expression cause an error? How can you fix it?\n",
    "'I have eaten ' + 99 + ' burritos.'\n",
    "Ans- We can not add 99 with this, because it is an integer so it can not concatenated with strings.\n",
    "it is possible but we need to do typecasting.\n"
   ]
  },
  {
   "cell_type": "code",
   "execution_count": null,
   "id": "2cf3ef4a",
   "metadata": {},
   "outputs": [],
   "source": []
  }
 ],
 "metadata": {
  "kernelspec": {
   "display_name": "Python 3 (ipykernel)",
   "language": "python",
   "name": "python3"
  },
  "language_info": {
   "codemirror_mode": {
    "name": "ipython",
    "version": 3
   },
   "file_extension": ".py",
   "mimetype": "text/x-python",
   "name": "python",
   "nbconvert_exporter": "python",
   "pygments_lexer": "ipython3",
   "version": "3.9.12"
  }
 },
 "nbformat": 4,
 "nbformat_minor": 5
}
