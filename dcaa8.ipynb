{
 "cells": [
  {
   "cell_type": "raw",
   "id": "d7d24f6e",
   "metadata": {},
   "source": [
    "                                                Assignment 8\n",
    "Q1)Is the Python Standard Library included with PyInputPlus?\n",
    "Ans-PyInputPlus is not a part of the Python Standard Library, we must install it separately using Pip.\n",
    "\n",
    "Q2) Why is PyInputPlus commonly imported with import pyinputplus as pypi?\n",
    "Ans-You can import the module with import pyinputplus as pyip so that you can enter a shorter name when calling the module’s functions.\n",
    "\n",
    "Q3) How do you distinguish between inputInt() and inputFloat()?\n",
    "Ans-The main difference is in their data type the 1st type is for integer type and the second part is for floating point data (which may includes decimal point) .\n",
    "\n",
    "Q4)Using PyInputPlus, how do you ensure that the user enters a whole number between 0 and 99?\n",
    "Ans- By using pyip.inputint(min=0, max=99) .\n",
    "5. What is transferred to the keyword arguments allowRegexes and blockRegexes?\n",
    "Ans- A list of regex strings that are either explicitly allowed or denied\n",
    "\n",
    "Q6)If a blank input is entered three times, what does inputStr(limit=3) do?\n",
    "Ans=The function will raise RetryLimitException.\n",
    "Q7)If blank input is entered three times, what does inputStr(limit=3, default='hello') do?\n",
    "Ans= The function returns the value 'hello' ."
   ]
  }
 ],
 "metadata": {
  "kernelspec": {
   "display_name": "Python 3 (ipykernel)",
   "language": "python",
   "name": "python3"
  },
  "language_info": {
   "codemirror_mode": {
    "name": "ipython",
    "version": 3
   },
   "file_extension": ".py",
   "mimetype": "text/x-python",
   "name": "python",
   "nbconvert_exporter": "python",
   "pygments_lexer": "ipython3",
   "version": "3.9.12"
  }
 },
 "nbformat": 4,
 "nbformat_minor": 5
}
