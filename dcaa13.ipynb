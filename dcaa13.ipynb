{
 "cells": [
  {
   "cell_type": "raw",
   "id": "e114be42",
   "metadata": {},
   "source": [
    "                                            Assignment 13"
   ]
  },
  {
   "cell_type": "raw",
   "id": "e5b395fc",
   "metadata": {},
   "source": [
    "1. What advantages do Excel spreadsheets have over CSV spreadsheets?\n",
    "\n",
    "Ans- CSV is generally faster and less complicated when compared to Excel. Text editors cannot edit files saved in Excel format, and also, Excel file can be password protected. Files saved in CSV format can be edited by text editors, and also CSV file cannot be password protected."
   ]
  },
  {
   "cell_type": "code",
   "execution_count": 1,
   "id": "98c7736f",
   "metadata": {},
   "outputs": [],
   "source": [
    "#2 2.What do you pass to csv.reader() and csv.writer() to create reader and writer objects?\n",
    "import csv"
   ]
  },
  {
   "cell_type": "code",
   "execution_count": 4,
   "id": "cb957180",
   "metadata": {},
   "outputs": [],
   "source": [
    "with open('Agentperformancep.csv') as f:\n",
    "          csv_reader=csv.reader(f)"
   ]
  },
  {
   "cell_type": "code",
   "execution_count": null,
   "id": "fe1934ff",
   "metadata": {},
   "outputs": [],
   "source": [
    "import csv\n",
    "\n",
    "# open the file in the write mode\n",
    "f = open('Agentperformancep.csv')\n",
    "writer = csv.writer(f)\n",
    "\n"
   ]
  },
  {
   "cell_type": "raw",
   "id": "bea2618d",
   "metadata": {},
   "source": [
    "3. What modes do File objects for reader and writer objects need to be opened in?\n",
    "\n",
    "Ans-We can specify the mode while opening a file .i.e. whether we want to read ‘r’, write ‘w’ or append ‘a’ to the file. We can also specify if we want to open the file in text mode or binary mode.\n",
    "The default mode is text mode where we get strings when reading from the file."
   ]
  },
  {
   "cell_type": "raw",
   "id": "9af5965e",
   "metadata": {},
   "source": [
    "4. What method takes a list argument and writes it to a CSV file?\n",
    "\n",
    "Ans-csv.writer class provides two methods for writing to CSV. They are writerow() and writerows().\n",
    "\n",
    "writerow(): This method writes a single row at a time. Field row can be written using this method.\n",
    "writerows(): This method is used to write multiple rows at a time. This can be used to write rows list.\n",
    "\n",
    "5. What do the keyword arguments delimiter and line terminator do?\n",
    "\n",
    "Ans- The delimiter is the character that appears between cells on a row. By default, the delimiter for a CSV file is a comma. The line terminator is the character that comes at the end of a row. By default, the line terminator is a newline. You can change characters to different values by using the delimiter and lineterminator keyword arguments with csv.writer().\n",
    "\n",
    "6. What function takes a string of JSON data and returns a Python data structure?\n",
    "Ans-json.load() method return Python data structure of JSON string or data.\n",
    "\n",
    "\n",
    "7. What function takes a Python data structure and returns a string of JSON data?\n",
    "Ans- We can convert it into a JSON string by using the json.dumps() method."
   ]
  }
 ],
 "metadata": {
  "kernelspec": {
   "display_name": "Python 3 (ipykernel)",
   "language": "python",
   "name": "python3"
  },
  "language_info": {
   "codemirror_mode": {
    "name": "ipython",
    "version": 3
   },
   "file_extension": ".py",
   "mimetype": "text/x-python",
   "name": "python",
   "nbconvert_exporter": "python",
   "pygments_lexer": "ipython3",
   "version": "3.9.12"
  }
 },
 "nbformat": 4,
 "nbformat_minor": 5
}
