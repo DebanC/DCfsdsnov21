{
 "cells": [
  {
   "cell_type": "raw",
   "id": "c6c9dbd7",
   "metadata": {},
   "source": [
    "Q1)What are the two values of the Boolean data type? How do you write them?\n",
    "\n",
    "Ans- The two types of boolean data type are True and False writen as T and F respectively.\n"
   ]
  },
  {
   "cell_type": "code",
   "execution_count": 1,
   "id": "9c367ba8",
   "metadata": {},
   "outputs": [
    {
     "name": "stdout",
     "output_type": "stream",
     "text": [
      "True False\n"
     ]
    }
   ],
   "source": [
    "#eg for Q1\n",
    "a=True\n",
    "b=False\n",
    "print(a,b)"
   ]
  },
  {
   "cell_type": "raw",
   "id": "e617511b",
   "metadata": {},
   "source": [
    "Q2) What are the three different types of Boolean operators?\n",
    "Ans- The 3 different types of Boolean Operators are - and,or & not\n",
    "\n",
    "Q3) Make a list of each Boolean operator's truth tables (i.e. every possible combination of Boolean values for the operator and what it evaluate ).\n",
    "Ans- True and True is True.\n",
    "\n",
    "True and False is False.\n",
    "\n",
    "False and True is False.\n",
    "\n",
    "False and False is False.\n",
    "\n",
    "True or True is True.\n",
    "\n",
    "True or False is True.\n",
    "\n",
    "False or True is True.\n",
    "\n",
    "False or False is False.\n",
    "\n",
    "not True is False.\n",
    "\n",
    "not False is True.\n",
    "\n",
    "True is 1(ON) and False is 0(OFF)\n",
    "Truth Table for AND\n",
    "A B output\n",
    "0 0 0\n",
    "0 1 0\n",
    "1 0 0\n",
    "1 1 1\n",
    "Truth Table for OR\n",
    "A B output\n",
    "0 0 0\n",
    "0 1 1\n",
    "1 0 1\n",
    "1 1 1\n",
    "Truth Table for NOT\n",
    "A output\n",
    "0 1\n",
    "1 0"
   ]
  },
  {
   "cell_type": "raw",
   "id": "38f59a37",
   "metadata": {},
   "source": [
    "Q4)4. What are the values of the following expressions?\n",
    "(5 > 4) and (3 == 5)\n",
    "not (5 > 4)\n",
    "(5 > 4) or (3 == 5)\n",
    "not ((5 > 4) or (3 == 5))\n",
    "(True and True) and (True == False)\n",
    "(not False) or (not True)\n",
    "\n",
    "\n"
   ]
  },
  {
   "cell_type": "code",
   "execution_count": 3,
   "id": "450a3f46",
   "metadata": {},
   "outputs": [
    {
     "name": "stdout",
     "output_type": "stream",
     "text": [
      "False\n",
      "False\n",
      "True\n",
      "False\n",
      "False\n",
      "True\n"
     ]
    }
   ],
   "source": [
    "#ans for Q4\n",
    "print((5>4) and (3==5))\n",
    "print(not(5>4))\n",
    "print((5>4) or (3==5))\n",
    "print(not(5>4) or (3==5))\n",
    "print((True and True) and (True==False))\n",
    "print((not(False))or(not(True)))"
   ]
  },
  {
   "cell_type": "raw",
   "id": "206c11b3",
   "metadata": {},
   "source": [
    "Q5)What are the six comparison operators?\n",
    "Ans- The six comparison operators are  ==, !=, <, >, <=, and >=\n"
   ]
  },
  {
   "cell_type": "raw",
   "id": "9f1edde0",
   "metadata": {},
   "source": [
    "Q6)How do you tell the difference between the equal to and assignment operators?Describe a condition and when you would use one.\n",
    "\n",
    "Ans- '==' is equal operator to evaluate boolean values in other hand '=' is assignment operator which can store a value of a variable.\n",
    "\n"
   ]
  },
  {
   "cell_type": "code",
   "execution_count": 4,
   "id": "729c8c51",
   "metadata": {},
   "outputs": [
    {
     "name": "stdout",
     "output_type": "stream",
     "text": [
      "False\n",
      "1\n"
     ]
    }
   ],
   "source": [
    "#for an exzmple of Q6\n",
    "if (1==2): #equal to operator\n",
    "    print(\"True\")\n",
    "else:\n",
    "    print(\"False\")\n",
    "#Assignment operator\n",
    "c=1 #where value 1 assigned to variable c\n",
    "print(c)"
   ]
  },
  {
   "cell_type": "raw",
   "id": "08fb096c",
   "metadata": {},
   "source": [
    "Q7)Identify the three blocks in this code:\n",
    "spam = 0\n",
    "if spam == 10:\n",
    "print('eggs')\n",
    "if spam > 5:\n",
    "print('bacon')\n",
    "else:\n",
    "print('ham')\n",
    "print('spam')\n",
    "print('spam')\n"
   ]
  },
  {
   "cell_type": "code",
   "execution_count": 6,
   "id": "7f88b35e",
   "metadata": {},
   "outputs": [
    {
     "name": "stdout",
     "output_type": "stream",
     "text": [
      "ham\n",
      "spam\n",
      "spam\n"
     ]
    }
   ],
   "source": [
    "#Ans\n",
    "spam = 0\n",
    "if spam == 10:\n",
    "    print('eggs') #Block 1\n",
    "if spam > 5:\n",
    "    print('bacon') #Block 2\n",
    "else:\n",
    "    print('ham') #Block 3\n",
    "    print('spam')\n",
    "    print('spam')\n"
   ]
  },
  {
   "cell_type": "raw",
   "id": "a0f0fe5e",
   "metadata": {},
   "source": [
    "Q8)Write code that prints Hello if 1 is stored in spam, prints Howdy if 2 is stored in spam, and prints Greetings! if anything else is stored in spam.\n",
    "\n"
   ]
  },
  {
   "cell_type": "code",
   "execution_count": 8,
   "id": "c0389346",
   "metadata": {},
   "outputs": [
    {
     "name": "stdout",
     "output_type": "stream",
     "text": [
      "Input a no.1\n",
      "Hello\n"
     ]
    }
   ],
   "source": [
    "#Ans-\n",
    "spam = int(input(\"Input a no.\"))\n",
    "if spam == 1:\n",
    "    print(\"Hello\")\n",
    "elif spam == 2:\n",
    "    print(\"Howdy\")\n",
    "else:\n",
    "    print(\"Greetings!\")\n",
    "        "
   ]
  },
  {
   "cell_type": "raw",
   "id": "937eae57",
   "metadata": {},
   "source": [
    "Q9)If your programme is stuck in an endless loop, what keys you’ll press?\n",
    "\n",
    "Ans- If program is stuck in endless loop we will press ctrl+c.\n",
    "\n",
    "Q10)10. How can you tell the difference between break and continue?\n"
   ]
  },
  {
   "cell_type": "code",
   "execution_count": 10,
   "id": "ec8e34d4",
   "metadata": {},
   "outputs": [
    {
     "name": "stdout",
     "output_type": "stream",
     "text": [
      "0\n",
      "1\n",
      "2\n",
      "Breaked\n",
      "0\n",
      "1\n",
      "2\n",
      "3\n"
     ]
    }
   ],
   "source": [
    "#Ans for Q10\n",
    "'''\n",
    "The break command will terminate from a loop after satisfying input reached and the continue command will execute for desired\n",
    "loop section\n",
    "\n",
    "'''\n",
    "# use of break\n",
    "for i in range(5):\n",
    "    if(i==3):\n",
    "        break\n",
    "    print(i)\n",
    "    \n",
    "print('Breaked')\n",
    "#use of  continue\n",
    "for i in range(5):\n",
    "    if(i==4):\n",
    "        continue\n",
    "    print(i)\n",
    "    "
   ]
  },
  {
   "cell_type": "raw",
   "id": "d283001b",
   "metadata": {},
   "source": [
    "Q11)In a for loop, what is the difference between range(10), range(0, 10), and range(0, 10, 1)?\n"
   ]
  },
  {
   "cell_type": "code",
   "execution_count": 13,
   "id": "fc3a0a9a",
   "metadata": {},
   "outputs": [
    {
     "name": "stdout",
     "output_type": "stream",
     "text": [
      "0\n",
      "1\n",
      "2\n",
      "3\n",
      "4\n",
      "5\n",
      "6\n",
      "7\n",
      "8\n",
      "9\n",
      "***when range is range(10) which shows values upto 9th position***\n",
      "0\n",
      "1\n",
      "2\n",
      "3\n",
      "4\n",
      "5\n",
      "6\n",
      "7\n",
      "8\n",
      "9\n",
      "***when range is range(0,10) which shows the values 0 to 9th position***\n",
      "0\n",
      "1\n",
      "2\n",
      "3\n",
      "4\n",
      "5\n",
      "6\n",
      "7\n",
      "8\n",
      "9\n",
      "when range is range(0,10,1) which shows the values 0 to 9th position of frequency 1***\n"
     ]
    }
   ],
   "source": [
    "#Ans-\n",
    "for i in range(10):\n",
    "    print(i)\n",
    "print(\"***when range is range(10) which shows values upto 9th position***\") \n",
    "for i in range(0,10):\n",
    "    print(i)\n",
    "print(\"***when range is range(0,10) which shows the values 0 to 9th position***\")\n",
    "for i in range(0,10,1):\n",
    "    print(i)\n",
    "print(\"when range is range(0,10,1) which shows the values 0 to 9th position of frequency 1***\")"
   ]
  },
  {
   "cell_type": "raw",
   "id": "0e4b44a5",
   "metadata": {},
   "source": [
    "Q12)Write a short program that prints the numbers 1 to 10 using a for loop. Then write an equivalent program that prints the numbers 1 to 10 using a while loop."
   ]
  },
  {
   "cell_type": "code",
   "execution_count": null,
   "id": "d11b1de7",
   "metadata": {},
   "outputs": [],
   "source": [
    "#Ans-\n",
    "for i in  range(1,11): #body of for loop\n",
    "    print(i)\n",
    "print(\"for loop\")\n",
    "a=1\n",
    "while a<=10: #body of while loop    print(a)\n",
    "    a+=1\n",
    "print(\"while\")\n"
   ]
  },
  {
   "cell_type": "markdown",
   "id": "4826f685",
   "metadata": {},
   "source": [
    "For Loop\n",
    "1\n",
    "2\n",
    "3\n",
    "4\n",
    "5\n",
    "6\n",
    "7\n",
    "8\n",
    "9\n",
    "10\n",
    "While Loop\n",
    "1\n",
    "2\n",
    "3\n",
    "4\n",
    "5\n",
    "6\n",
    "7\n",
    "8\n",
    "9\n",
    "10"
   ]
  },
  {
   "cell_type": "raw",
   "id": "353863f3",
   "metadata": {},
   "source": [
    "Q13) If you had a function named bacon() inside a module named spam, how would you call it after importing spam?\n",
    "\n",
    "Ans-This function can be called with spam.bacon().\n",
    "\n",
    " "
   ]
  }
 ],
 "metadata": {
  "kernelspec": {
   "display_name": "Python 3 (ipykernel)",
   "language": "python",
   "name": "python3"
  },
  "language_info": {
   "codemirror_mode": {
    "name": "ipython",
    "version": 3
   },
   "file_extension": ".py",
   "mimetype": "text/x-python",
   "name": "python",
   "nbconvert_exporter": "python",
   "pygments_lexer": "ipython3",
   "version": "3.9.12"
  }
 },
 "nbformat": 4,
 "nbformat_minor": 5
}
